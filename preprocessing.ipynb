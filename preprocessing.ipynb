{
 "cells": [
  {
   "cell_type": "code",
   "execution_count": 1,
   "id": "0dc5a69b",
   "metadata": {},
   "outputs": [],
   "source": [
    "import numpy as np\n",
    "import pandas as pd\n",
    "import matplotlib.pyplot as plt\n",
    "import seaborn as sns"
   ]
  },
  {
   "cell_type": "code",
   "execution_count": 622,
   "id": "326cfd4e",
   "metadata": {},
   "outputs": [
    {
     "data": {
      "text/html": [
       "<div>\n",
       "<style scoped>\n",
       "    .dataframe tbody tr th:only-of-type {\n",
       "        vertical-align: middle;\n",
       "    }\n",
       "\n",
       "    .dataframe tbody tr th {\n",
       "        vertical-align: top;\n",
       "    }\n",
       "\n",
       "    .dataframe thead th {\n",
       "        text-align: right;\n",
       "    }\n",
       "</style>\n",
       "<table border=\"1\" class=\"dataframe\">\n",
       "  <thead>\n",
       "    <tr style=\"text-align: right;\">\n",
       "      <th></th>\n",
       "      <th>app_category</th>\n",
       "      <th>query_category</th>\n",
       "      <th>published_at</th>\n",
       "      <th>rate</th>\n",
       "      <th>comment_count</th>\n",
       "      <th>installed_count</th>\n",
       "      <th>image_count</th>\n",
       "      <th>is_specific</th>\n",
       "      <th>app2query_semantic_similarity</th>\n",
       "      <th>result</th>\n",
       "    </tr>\n",
       "  </thead>\n",
       "  <tbody>\n",
       "    <tr>\n",
       "      <th>0</th>\n",
       "      <td>finance</td>\n",
       "      <td>communication</td>\n",
       "      <td>2015-5-7</td>\n",
       "      <td>4.2</td>\n",
       "      <td>10399</td>\n",
       "      <td>500000.0</td>\n",
       "      <td>4</td>\n",
       "      <td>True</td>\n",
       "      <td>0.456808</td>\n",
       "      <td>1</td>\n",
       "    </tr>\n",
       "    <tr>\n",
       "      <th>1</th>\n",
       "      <td>family</td>\n",
       "      <td>family</td>\n",
       "      <td>2017-3-17</td>\n",
       "      <td>4.8</td>\n",
       "      <td>133076</td>\n",
       "      <td>500000.0</td>\n",
       "      <td>4</td>\n",
       "      <td>True</td>\n",
       "      <td>0.758643</td>\n",
       "      <td>1</td>\n",
       "    </tr>\n",
       "    <tr>\n",
       "      <th>2</th>\n",
       "      <td>productivity</td>\n",
       "      <td>productivity</td>\n",
       "      <td>2015-10-13</td>\n",
       "      <td>5.2</td>\n",
       "      <td>202818</td>\n",
       "      <td>500000.0</td>\n",
       "      <td>4</td>\n",
       "      <td>True</td>\n",
       "      <td>0.604380</td>\n",
       "      <td>1</td>\n",
       "    </tr>\n",
       "    <tr>\n",
       "      <th>3</th>\n",
       "      <td>productivity</td>\n",
       "      <td>productivity</td>\n",
       "      <td>2015-11-22</td>\n",
       "      <td>4.9</td>\n",
       "      <td>8123</td>\n",
       "      <td>12000000.0</td>\n",
       "      <td>8</td>\n",
       "      <td>True</td>\n",
       "      <td>NaN</td>\n",
       "      <td>1</td>\n",
       "    </tr>\n",
       "    <tr>\n",
       "      <th>4</th>\n",
       "      <td>finance</td>\n",
       "      <td>communication</td>\n",
       "      <td>2015-5-7</td>\n",
       "      <td>4.2</td>\n",
       "      <td>10399</td>\n",
       "      <td>500000.0</td>\n",
       "      <td>4</td>\n",
       "      <td>True</td>\n",
       "      <td>0.449460</td>\n",
       "      <td>0</td>\n",
       "    </tr>\n",
       "  </tbody>\n",
       "</table>\n",
       "</div>"
      ],
      "text/plain": [
       "   app_category query_category published_at  rate  comment_count  \\\n",
       "0       finance  communication     2015-5-7   4.2          10399   \n",
       "1        family         family    2017-3-17   4.8         133076   \n",
       "2  productivity   productivity   2015-10-13   5.2         202818   \n",
       "3  productivity   productivity   2015-11-22   4.9           8123   \n",
       "4       finance  communication     2015-5-7   4.2          10399   \n",
       "\n",
       "   installed_count  image_count  is_specific  app2query_semantic_similarity  \\\n",
       "0         500000.0            4         True                       0.456808   \n",
       "1         500000.0            4         True                       0.758643   \n",
       "2         500000.0            4         True                       0.604380   \n",
       "3       12000000.0            8         True                            NaN   \n",
       "4         500000.0            4         True                       0.449460   \n",
       "\n",
       "   result  \n",
       "0       1  \n",
       "1       1  \n",
       "2       1  \n",
       "3       1  \n",
       "4       0  "
      ]
     },
     "execution_count": 622,
     "metadata": {},
     "output_type": "execute_result"
    }
   ],
   "source": [
    "df = pd.read_csv('bazaar_task.csv')\n",
    "df.head()"
   ]
  },
  {
   "cell_type": "code",
   "execution_count": 371,
   "id": "04b46e7d",
   "metadata": {},
   "outputs": [
    {
     "name": "stdout",
     "output_type": "stream",
     "text": [
      "<class 'pandas.core.frame.DataFrame'>\n",
      "RangeIndex: 6000 entries, 0 to 5999\n",
      "Data columns (total 10 columns):\n",
      " #   Column                         Non-Null Count  Dtype  \n",
      "---  ------                         --------------  -----  \n",
      " 0   app_category                   6000 non-null   object \n",
      " 1   query_category                 4500 non-null   object \n",
      " 2   published_at                   6000 non-null   object \n",
      " 3   rate                           4800 non-null   float64\n",
      " 4   comment_count                  6000 non-null   int64  \n",
      " 5   installed_count                6000 non-null   float64\n",
      " 6   image_count                    6000 non-null   int64  \n",
      " 7   is_specific                    6000 non-null   bool   \n",
      " 8   app2query_semantic_similarity  5677 non-null   float64\n",
      " 9   result                         6000 non-null   int64  \n",
      "dtypes: bool(1), float64(3), int64(3), object(3)\n",
      "memory usage: 427.9+ KB\n"
     ]
    }
   ],
   "source": [
    "df.info()"
   ]
  },
  {
   "cell_type": "markdown",
   "id": "c3ea30cd",
   "metadata": {},
   "source": [
    "NaNs in query category -> replace with \"Other\"\n",
    "\n",
    "NaNs in rate -> replace with median/mean\n",
    "\n",
    "NaNs in semantic_similarity -> replace with median/mean"
   ]
  },
  {
   "cell_type": "code",
   "execution_count": 82,
   "id": "f4fec977",
   "metadata": {},
   "outputs": [
    {
     "data": {
      "text/html": [
       "<div>\n",
       "<style scoped>\n",
       "    .dataframe tbody tr th:only-of-type {\n",
       "        vertical-align: middle;\n",
       "    }\n",
       "\n",
       "    .dataframe tbody tr th {\n",
       "        vertical-align: top;\n",
       "    }\n",
       "\n",
       "    .dataframe thead th {\n",
       "        text-align: right;\n",
       "    }\n",
       "</style>\n",
       "<table border=\"1\" class=\"dataframe\">\n",
       "  <thead>\n",
       "    <tr style=\"text-align: right;\">\n",
       "      <th></th>\n",
       "      <th>rate</th>\n",
       "      <th>comment_count</th>\n",
       "      <th>installed_count</th>\n",
       "      <th>image_count</th>\n",
       "      <th>app2query_semantic_similarity</th>\n",
       "      <th>result</th>\n",
       "    </tr>\n",
       "  </thead>\n",
       "  <tbody>\n",
       "    <tr>\n",
       "      <th>count</th>\n",
       "      <td>4800.000000</td>\n",
       "      <td>6.000000e+03</td>\n",
       "      <td>6.000000e+03</td>\n",
       "      <td>6000.000000</td>\n",
       "      <td>5677.000000</td>\n",
       "      <td>6000.000000</td>\n",
       "    </tr>\n",
       "    <tr>\n",
       "      <th>mean</th>\n",
       "      <td>5.374708</td>\n",
       "      <td>1.188606e+05</td>\n",
       "      <td>4.918000e+06</td>\n",
       "      <td>6.477667</td>\n",
       "      <td>0.617935</td>\n",
       "      <td>0.355500</td>\n",
       "    </tr>\n",
       "    <tr>\n",
       "      <th>std</th>\n",
       "      <td>0.698683</td>\n",
       "      <td>2.529886e+05</td>\n",
       "      <td>7.901309e+06</td>\n",
       "      <td>3.009598</td>\n",
       "      <td>0.253610</td>\n",
       "      <td>0.478704</td>\n",
       "    </tr>\n",
       "    <tr>\n",
       "      <th>min</th>\n",
       "      <td>2.100000</td>\n",
       "      <td>8.240000e+02</td>\n",
       "      <td>5.000000e+05</td>\n",
       "      <td>1.000000</td>\n",
       "      <td>0.000000</td>\n",
       "      <td>0.000000</td>\n",
       "    </tr>\n",
       "    <tr>\n",
       "      <th>25%</th>\n",
       "      <td>4.900000</td>\n",
       "      <td>1.039900e+04</td>\n",
       "      <td>5.000000e+05</td>\n",
       "      <td>4.000000</td>\n",
       "      <td>0.445426</td>\n",
       "      <td>0.000000</td>\n",
       "    </tr>\n",
       "    <tr>\n",
       "      <th>50%</th>\n",
       "      <td>5.400000</td>\n",
       "      <td>3.435100e+04</td>\n",
       "      <td>2.000000e+06</td>\n",
       "      <td>7.000000</td>\n",
       "      <td>0.625315</td>\n",
       "      <td>0.000000</td>\n",
       "    </tr>\n",
       "    <tr>\n",
       "      <th>75%</th>\n",
       "      <td>5.800000</td>\n",
       "      <td>9.318700e+04</td>\n",
       "      <td>5.000000e+06</td>\n",
       "      <td>9.000000</td>\n",
       "      <td>0.833131</td>\n",
       "      <td>1.000000</td>\n",
       "    </tr>\n",
       "    <tr>\n",
       "      <th>max</th>\n",
       "      <td>6.600000</td>\n",
       "      <td>1.186132e+06</td>\n",
       "      <td>3.100000e+07</td>\n",
       "      <td>11.000000</td>\n",
       "      <td>1.000000</td>\n",
       "      <td>1.000000</td>\n",
       "    </tr>\n",
       "  </tbody>\n",
       "</table>\n",
       "</div>"
      ],
      "text/plain": [
       "              rate  comment_count  installed_count  image_count  \\\n",
       "count  4800.000000   6.000000e+03     6.000000e+03  6000.000000   \n",
       "mean      5.374708   1.188606e+05     4.918000e+06     6.477667   \n",
       "std       0.698683   2.529886e+05     7.901309e+06     3.009598   \n",
       "min       2.100000   8.240000e+02     5.000000e+05     1.000000   \n",
       "25%       4.900000   1.039900e+04     5.000000e+05     4.000000   \n",
       "50%       5.400000   3.435100e+04     2.000000e+06     7.000000   \n",
       "75%       5.800000   9.318700e+04     5.000000e+06     9.000000   \n",
       "max       6.600000   1.186132e+06     3.100000e+07    11.000000   \n",
       "\n",
       "       app2query_semantic_similarity       result  \n",
       "count                    5677.000000  6000.000000  \n",
       "mean                        0.617935     0.355500  \n",
       "std                         0.253610     0.478704  \n",
       "min                         0.000000     0.000000  \n",
       "25%                         0.445426     0.000000  \n",
       "50%                         0.625315     0.000000  \n",
       "75%                         0.833131     1.000000  \n",
       "max                         1.000000     1.000000  "
      ]
     },
     "execution_count": 82,
     "metadata": {},
     "output_type": "execute_result"
    }
   ],
   "source": [
    "df.describe()"
   ]
  },
  {
   "cell_type": "code",
   "execution_count": 83,
   "id": "f060ab13",
   "metadata": {},
   "outputs": [
    {
     "data": {
      "text/plain": [
       "(3578, 10)"
      ]
     },
     "execution_count": 83,
     "metadata": {},
     "output_type": "execute_result"
    }
   ],
   "source": [
    "df[df.rate > 5].shape"
   ]
  },
  {
   "cell_type": "markdown",
   "id": "a25f8357",
   "metadata": {},
   "source": [
    "I assume rate is in range 0-10"
   ]
  },
  {
   "cell_type": "code",
   "execution_count": 84,
   "id": "5034b649",
   "metadata": {},
   "outputs": [
    {
     "data": {
      "text/html": [
       "<div>\n",
       "<style scoped>\n",
       "    .dataframe tbody tr th:only-of-type {\n",
       "        vertical-align: middle;\n",
       "    }\n",
       "\n",
       "    .dataframe tbody tr th {\n",
       "        vertical-align: top;\n",
       "    }\n",
       "\n",
       "    .dataframe thead th {\n",
       "        text-align: right;\n",
       "    }\n",
       "</style>\n",
       "<table border=\"1\" class=\"dataframe\">\n",
       "  <thead>\n",
       "    <tr style=\"text-align: right;\">\n",
       "      <th></th>\n",
       "      <th>rate</th>\n",
       "      <th>comment_count</th>\n",
       "      <th>installed_count</th>\n",
       "      <th>image_count</th>\n",
       "      <th>is_specific</th>\n",
       "      <th>app2query_semantic_similarity</th>\n",
       "      <th>result</th>\n",
       "    </tr>\n",
       "  </thead>\n",
       "  <tbody>\n",
       "    <tr>\n",
       "      <th>rate</th>\n",
       "      <td>1.000000</td>\n",
       "      <td>0.162427</td>\n",
       "      <td>0.202334</td>\n",
       "      <td>0.220201</td>\n",
       "      <td>-0.088311</td>\n",
       "      <td>-0.181035</td>\n",
       "      <td>-0.021296</td>\n",
       "    </tr>\n",
       "    <tr>\n",
       "      <th>comment_count</th>\n",
       "      <td>0.162427</td>\n",
       "      <td>1.000000</td>\n",
       "      <td>0.078846</td>\n",
       "      <td>0.101055</td>\n",
       "      <td>0.041164</td>\n",
       "      <td>0.031318</td>\n",
       "      <td>0.020272</td>\n",
       "    </tr>\n",
       "    <tr>\n",
       "      <th>installed_count</th>\n",
       "      <td>0.202334</td>\n",
       "      <td>0.078846</td>\n",
       "      <td>1.000000</td>\n",
       "      <td>0.281533</td>\n",
       "      <td>0.194790</td>\n",
       "      <td>-0.260075</td>\n",
       "      <td>0.229122</td>\n",
       "    </tr>\n",
       "    <tr>\n",
       "      <th>image_count</th>\n",
       "      <td>0.220201</td>\n",
       "      <td>0.101055</td>\n",
       "      <td>0.281533</td>\n",
       "      <td>1.000000</td>\n",
       "      <td>-0.100772</td>\n",
       "      <td>-0.242696</td>\n",
       "      <td>0.047223</td>\n",
       "    </tr>\n",
       "    <tr>\n",
       "      <th>is_specific</th>\n",
       "      <td>-0.088311</td>\n",
       "      <td>0.041164</td>\n",
       "      <td>0.194790</td>\n",
       "      <td>-0.100772</td>\n",
       "      <td>1.000000</td>\n",
       "      <td>0.166187</td>\n",
       "      <td>0.201219</td>\n",
       "    </tr>\n",
       "    <tr>\n",
       "      <th>app2query_semantic_similarity</th>\n",
       "      <td>-0.181035</td>\n",
       "      <td>0.031318</td>\n",
       "      <td>-0.260075</td>\n",
       "      <td>-0.242696</td>\n",
       "      <td>0.166187</td>\n",
       "      <td>1.000000</td>\n",
       "      <td>0.149624</td>\n",
       "    </tr>\n",
       "    <tr>\n",
       "      <th>result</th>\n",
       "      <td>-0.021296</td>\n",
       "      <td>0.020272</td>\n",
       "      <td>0.229122</td>\n",
       "      <td>0.047223</td>\n",
       "      <td>0.201219</td>\n",
       "      <td>0.149624</td>\n",
       "      <td>1.000000</td>\n",
       "    </tr>\n",
       "  </tbody>\n",
       "</table>\n",
       "</div>"
      ],
      "text/plain": [
       "                                   rate  comment_count  installed_count  \\\n",
       "rate                           1.000000       0.162427         0.202334   \n",
       "comment_count                  0.162427       1.000000         0.078846   \n",
       "installed_count                0.202334       0.078846         1.000000   \n",
       "image_count                    0.220201       0.101055         0.281533   \n",
       "is_specific                   -0.088311       0.041164         0.194790   \n",
       "app2query_semantic_similarity -0.181035       0.031318        -0.260075   \n",
       "result                        -0.021296       0.020272         0.229122   \n",
       "\n",
       "                               image_count  is_specific  \\\n",
       "rate                              0.220201    -0.088311   \n",
       "comment_count                     0.101055     0.041164   \n",
       "installed_count                   0.281533     0.194790   \n",
       "image_count                       1.000000    -0.100772   \n",
       "is_specific                      -0.100772     1.000000   \n",
       "app2query_semantic_similarity    -0.242696     0.166187   \n",
       "result                            0.047223     0.201219   \n",
       "\n",
       "                               app2query_semantic_similarity    result  \n",
       "rate                                               -0.181035 -0.021296  \n",
       "comment_count                                       0.031318  0.020272  \n",
       "installed_count                                    -0.260075  0.229122  \n",
       "image_count                                        -0.242696  0.047223  \n",
       "is_specific                                         0.166187  0.201219  \n",
       "app2query_semantic_similarity                       1.000000  0.149624  \n",
       "result                                              0.149624  1.000000  "
      ]
     },
     "execution_count": 84,
     "metadata": {},
     "output_type": "execute_result"
    }
   ],
   "source": [
    "df.corr()"
   ]
  },
  {
   "cell_type": "code",
   "execution_count": 85,
   "id": "d1a15980",
   "metadata": {},
   "outputs": [],
   "source": [
    "df_num = df[['rate', 'comment_count', 'installed_count', 'image_count', 'app2query_semantic_similarity', 'result']]\n",
    "df_cat = df[['app_category', 'query_category', 'is_specific']]"
   ]
  },
  {
   "cell_type": "code",
   "execution_count": 86,
   "id": "b0eb09d3",
   "metadata": {},
   "outputs": [
    {
     "data": {
      "text/plain": [
       "<seaborn.axisgrid.PairGrid at 0x27432239610>"
      ]
     },
     "execution_count": 86,
     "metadata": {},
     "output_type": "execute_result"
    },
    {
     "data": {
      "image/png": "[encoded data removed]",
      "text/plain": [
       "<Figure size 1080x1080 with 42 Axes>"
      ]
     },
     "metadata": {
      "needs_background": "light"
     },
     "output_type": "display_data"
    }
   ],
   "source": [
    "sns.pairplot(df_num, kind='scatter')"
   ]
  },
  {
   "cell_type": "code",
   "execution_count": 87,
   "id": "56d3fb48",
   "metadata": {},
   "outputs": [
    {
     "data": {
      "image/png": "[encoded data removed]",
      "text/plain": [
       "<Figure size 432x288 with 1 Axes>"
      ]
     },
     "metadata": {
      "needs_background": "light"
     },
     "output_type": "display_data"
    },
    {
     "data": {
      "image/png": "[encoded data removed]",
      "text/plain": [
       "<Figure size 432x288 with 1 Axes>"
      ]
     },
     "metadata": {
      "needs_background": "light"
     },
     "output_type": "display_data"
    },
    {
     "data": {
      "image/png": "[encoded data removed]",
      "text/plain": [
       "<Figure size 432x288 with 1 Axes>"
      ]
     },
     "metadata": {
      "needs_background": "light"
     },
     "output_type": "display_data"
    },
    {
     "data": {
      "image/png": "[encoded data removed]",
      "text/plain": [
       "<Figure size 432x288 with 1 Axes>"
      ]
     },
     "metadata": {
      "needs_background": "light"
     },
     "output_type": "display_data"
    },
    {
     "data": {
      "image/png": "[encoded data removed]",
      "text/plain": [
       "<Figure size 432x288 with 1 Axes>"
      ]
     },
     "metadata": {
      "needs_background": "light"
     },
     "output_type": "display_data"
    },
    {
     "data": {
      "image/png": "[encoded data removed]",
      "text/plain": [
       "<Figure size 432x288 with 1 Axes>"
      ]
     },
     "metadata": {
      "needs_background": "light"
     },
     "output_type": "display_data"
    }
   ],
   "source": [
    "for i in df_num:\n",
    "    sns.histplot(data=df_num[i]).set_title(i)\n",
    "    plt.show()"
   ]
  },
  {
   "cell_type": "code",
   "execution_count": 446,
   "id": "73802a3d",
   "metadata": {},
   "outputs": [
    {
     "data": {
      "image/png": "[encoded data removed]",
      "text/plain": [
       "<Figure size 432x288 with 1 Axes>"
      ]
     },
     "metadata": {
      "needs_background": "light"
     },
     "output_type": "display_data"
    },
    {
     "data": {
      "image/png": "[encoded data removed]",
      "text/plain": [
       "<Figure size 432x288 with 1 Axes>"
      ]
     },
     "metadata": {
      "needs_background": "light"
     },
     "output_type": "display_data"
    },
    {
     "data": {
      "image/png": "[encoded data removed]",
      "text/plain": [
       "<Figure size 432x288 with 1 Axes>"
      ]
     },
     "metadata": {
      "needs_background": "light"
     },
     "output_type": "display_data"
    },
    {
     "data": {
      "image/png": "[encoded data removed]",
      "text/plain": [
       "<Figure size 432x288 with 1 Axes>"
      ]
     },
     "metadata": {
      "needs_background": "light"
     },
     "output_type": "display_data"
    },
    {
     "data": {
      "image/png": "[encoded data removed]",
      "text/plain": [
       "<Figure size 432x288 with 1 Axes>"
      ]
     },
     "metadata": {
      "needs_background": "light"
     },
     "output_type": "display_data"
    }
   ],
   "source": [
    "for i in df_num.drop(columns='result'):\n",
    "    sns.boxplot(data=df_num[i])\n",
    "    plt.title(i)\n",
    "    plt.show()"
   ]
  },
  {
   "cell_type": "code",
   "execution_count": 626,
   "id": "7981c4e6",
   "metadata": {},
   "outputs": [
    {
     "name": "stdout",
     "output_type": "stream",
     "text": [
      "IQR:82788\n",
      "Q1:10399\n",
      "Q3:93187\n"
     ]
    },
    {
     "data": {
      "text/plain": [
       "(700, 10)"
      ]
     },
     "execution_count": 626,
     "metadata": {},
     "output_type": "execute_result"
    }
   ],
   "source": [
    "Q1 = df['comment_count'].quantile(0.25)\n",
    "Q3 = df['comment_count'].quantile(0.75)\n",
    "IQR = Q3 - Q1\n",
    "comment_outlier = df.query('comment_count > (@Q3 + 1.5*@IQR)')\n",
    "print('IQR:%d\\nQ1:%d\\nQ3:%d' %(IQR, Q1, Q3))\n",
    "comment_outlier.shape"
   ]
  },
  {
   "cell_type": "code",
   "execution_count": 627,
   "id": "534ff072",
   "metadata": {},
   "outputs": [
    {
     "name": "stdout",
     "output_type": "stream",
     "text": [
      "IQR:4500000\n",
      "Q1:500000\n",
      "Q3:5000000\n"
     ]
    },
    {
     "data": {
      "text/plain": [
       "(710, 10)"
      ]
     },
     "execution_count": 627,
     "metadata": {},
     "output_type": "execute_result"
    }
   ],
   "source": [
    "Q1 = df['installed_count'].quantile(0.25)\n",
    "Q3 = df['installed_count'].quantile(0.75)\n",
    "IQR = Q3 - Q1\n",
    "install_outlier = df.query('installed_count > (@Q3 + 1.5*@IQR)')\n",
    "print('IQR:%d\\nQ1:%d\\nQ3:%d' %(IQR, Q1, Q3))\n",
    "install_outlier.shape"
   ]
  },
  {
   "cell_type": "code",
   "execution_count": 628,
   "id": "d39deb0d",
   "metadata": {},
   "outputs": [],
   "source": [
    "outliers = pd.concat([comment_outlier, install_outlier]).drop_duplicates()\n",
    "df = df.drop(outliers.index).reset_index(drop=True)"
   ]
  },
  {
   "cell_type": "code",
   "execution_count": 114,
   "id": "7a372852",
   "metadata": {},
   "outputs": [
    {
     "data": {
      "text/html": [
       "<div>\n",
       "<style scoped>\n",
       "    .dataframe tbody tr th:only-of-type {\n",
       "        vertical-align: middle;\n",
       "    }\n",
       "\n",
       "    .dataframe tbody tr th {\n",
       "        vertical-align: top;\n",
       "    }\n",
       "\n",
       "    .dataframe thead th {\n",
       "        text-align: right;\n",
       "    }\n",
       "</style>\n",
       "<table border=\"1\" class=\"dataframe\">\n",
       "  <thead>\n",
       "    <tr style=\"text-align: right;\">\n",
       "      <th></th>\n",
       "      <th>app2query_semantic_similarity</th>\n",
       "      <th>comment_count</th>\n",
       "      <th>image_count</th>\n",
       "      <th>installed_count</th>\n",
       "      <th>rate</th>\n",
       "    </tr>\n",
       "    <tr>\n",
       "      <th>result</th>\n",
       "      <th></th>\n",
       "      <th></th>\n",
       "      <th></th>\n",
       "      <th></th>\n",
       "      <th></th>\n",
       "    </tr>\n",
       "  </thead>\n",
       "  <tbody>\n",
       "    <tr>\n",
       "      <th>0</th>\n",
       "      <td>0.587700</td>\n",
       "      <td>79378.235278</td>\n",
       "      <td>6.327818</td>\n",
       "      <td>2.898486e+06</td>\n",
       "      <td>5.375497</td>\n",
       "    </tr>\n",
       "    <tr>\n",
       "      <th>1</th>\n",
       "      <td>0.673668</td>\n",
       "      <td>87401.462249</td>\n",
       "      <td>6.591526</td>\n",
       "      <td>6.137425e+06</td>\n",
       "      <td>5.327362</td>\n",
       "    </tr>\n",
       "  </tbody>\n",
       "</table>\n",
       "</div>"
      ],
      "text/plain": [
       "        app2query_semantic_similarity  comment_count  image_count  \\\n",
       "result                                                              \n",
       "0                            0.587700   79378.235278     6.327818   \n",
       "1                            0.673668   87401.462249     6.591526   \n",
       "\n",
       "        installed_count      rate  \n",
       "result                             \n",
       "0          2.898486e+06  5.375497  \n",
       "1          6.137425e+06  5.327362  "
      ]
     },
     "execution_count": 114,
     "metadata": {},
     "output_type": "execute_result"
    }
   ],
   "source": [
    "pd.pivot_table(df, index='result', values=['rate', 'comment_count', 'installed_count', 'image_count', 'app2query_semantic_similarity'], aggfunc='mean')"
   ]
  },
  {
   "cell_type": "markdown",
   "id": "ebcdf5f8",
   "metadata": {},
   "source": [
    "There's a significant difference for installed_count.\n",
    "\n",
    "Other features are roughly the same for both 0 and 1 result."
   ]
  },
  {
   "cell_type": "code",
   "execution_count": 115,
   "id": "a66b73f4",
   "metadata": {},
   "outputs": [
    {
     "data": {
      "image/png": "[encoded data removed]",
      "text/plain": [
       "<Figure size 1008x432 with 1 Axes>"
      ]
     },
     "metadata": {
      "needs_background": "light"
     },
     "output_type": "display_data"
    },
    {
     "data": {
      "image/png": "[encoded data removed]",
      "text/plain": [
       "<Figure size 1008x432 with 1 Axes>"
      ]
     },
     "metadata": {
      "needs_background": "light"
     },
     "output_type": "display_data"
    },
    {
     "data": {
      "image/png": "[encoded data removed]",
      "text/plain": [
       "<Figure size 1008x432 with 1 Axes>"
      ]
     },
     "metadata": {
      "needs_background": "light"
     },
     "output_type": "display_data"
    }
   ],
   "source": [
    "for i in df_cat:\n",
    "    plt.figure(figsize=(14,6))\n",
    "    sns.barplot(x=df_cat[i].value_counts().index, y=df_cat[i].value_counts()).set_title(i)\n",
    "    plt.xticks(rotation=90)\n",
    "    plt.show()"
   ]
  },
  {
   "cell_type": "code",
   "execution_count": 116,
   "id": "bd632c54",
   "metadata": {},
   "outputs": [
    {
     "data": {
      "image/png": "[encoded data removed]",
      "text/plain": [
       "<Figure size 1008x432 with 1 Axes>"
      ]
     },
     "metadata": {
      "needs_background": "light"
     },
     "output_type": "display_data"
    }
   ],
   "source": [
    "df.boxplot(column='installed_count', by='query_category', figsize=(14,6), rot=90)\n",
    "plt.show()"
   ]
  },
  {
   "cell_type": "markdown",
   "id": "1bfded84",
   "metadata": {},
   "source": [
    "Some apps in each categories are considered as outliers, for example, DigiKala in shopping category since it has a high value of installation in relation to other apps."
   ]
  },
  {
   "cell_type": "code",
   "execution_count": 117,
   "id": "c803f6c2",
   "metadata": {},
   "outputs": [
    {
     "data": {
      "image/png": "[encoded data removed]",
      "text/plain": [
       "<Figure size 1008x432 with 1 Axes>"
      ]
     },
     "metadata": {
      "needs_background": "light"
     },
     "output_type": "display_data"
    }
   ],
   "source": [
    "df.boxplot(column='comment_count', by='app_category', figsize=(14,6), rot=90)\n",
    "plt.show()"
   ]
  },
  {
   "cell_type": "code",
   "execution_count": 118,
   "id": "11a65f28",
   "metadata": {
    "scrolled": false
   },
   "outputs": [
    {
     "data": {
      "text/html": [
       "<div>\n",
       "<style scoped>\n",
       "    .dataframe tbody tr th:only-of-type {\n",
       "        vertical-align: middle;\n",
       "    }\n",
       "\n",
       "    .dataframe tbody tr th {\n",
       "        vertical-align: top;\n",
       "    }\n",
       "\n",
       "    .dataframe thead th {\n",
       "        text-align: right;\n",
       "    }\n",
       "</style>\n",
       "<table border=\"1\" class=\"dataframe\">\n",
       "  <thead>\n",
       "    <tr style=\"text-align: right;\">\n",
       "      <th>is_specific</th>\n",
       "      <th>False</th>\n",
       "      <th>True</th>\n",
       "    </tr>\n",
       "    <tr>\n",
       "      <th>result</th>\n",
       "      <th></th>\n",
       "      <th></th>\n",
       "    </tr>\n",
       "  </thead>\n",
       "  <tbody>\n",
       "    <tr>\n",
       "      <th>0</th>\n",
       "      <td>879</td>\n",
       "      <td>1986</td>\n",
       "    </tr>\n",
       "    <tr>\n",
       "      <th>1</th>\n",
       "      <td>186</td>\n",
       "      <td>1349</td>\n",
       "    </tr>\n",
       "  </tbody>\n",
       "</table>\n",
       "</div>"
      ],
      "text/plain": [
       "is_specific  False  True\n",
       "result                  \n",
       "0              879  1986\n",
       "1              186  1349"
      ]
     },
     "execution_count": 118,
     "metadata": {},
     "output_type": "execute_result"
    }
   ],
   "source": [
    "pd.pivot_table(df, index='result', columns='is_specific', values='rate', aggfunc='count')"
   ]
  },
  {
   "cell_type": "code",
   "execution_count": 629,
   "id": "4dc11bb7",
   "metadata": {
    "scrolled": true
   },
   "outputs": [
    {
     "data": {
      "text/plain": [
       "is_specific\n",
       "False    0.177431\n",
       "True     0.394581\n",
       "dtype: float64"
      ]
     },
     "execution_count": 629,
     "metadata": {},
     "output_type": "execute_result"
    }
   ],
   "source": [
    "def get_clicks(x):\n",
    "    return x['result'].sum()/x['result'].shape[0]\n",
    "\n",
    "specific_clicks = df.groupby('is_specific').apply(lambda x: get_clicks(x))\n",
    "specific_clicks"
   ]
  },
  {
   "cell_type": "code",
   "execution_count": 630,
   "id": "815aae47",
   "metadata": {},
   "outputs": [
    {
     "name": "stdout",
     "output_type": "stream",
     "text": [
      "mean:  0.27039620373206297\n",
      "std:  0.16038693582027522\n"
     ]
    },
    {
     "data": {
      "text/plain": [
       "query_category\n",
       "Other              0.330462\n",
       "action             0.137931\n",
       "arcade             0.316514\n",
       "books-reference    0.111111\n",
       "business           0.555556\n",
       "casual             0.360465\n",
       "communication      0.077465\n",
       "education          0.314286\n",
       "entertainment      0.134615\n",
       "family             0.358696\n",
       "finance            0.298883\n",
       "health-fitness     0.157895\n",
       "lifestyle          0.400000\n",
       "maps-navigation    0.323308\n",
       "media-video        0.424920\n",
       "music-audio        0.095238\n",
       "news               0.000000\n",
       "personalization    0.000000\n",
       "photography        0.286232\n",
       "productivity       0.448454\n",
       "puzzle             0.058824\n",
       "racing             0.235821\n",
       "religious          0.200000\n",
       "shopping           0.440191\n",
       "social             0.543478\n",
       "sports-game        0.250000\n",
       "strategy           0.354839\n",
       "tools              0.569061\n",
       "travel-local       0.264706\n",
       "weather            0.333333\n",
       "word-trivia        0.000000\n",
       "dtype: float64"
      ]
     },
     "execution_count": 630,
     "metadata": {},
     "output_type": "execute_result"
    }
   ],
   "source": [
    "df['query_category'].fillna(value='Other', inplace=True)\n",
    "query_clicks = df.groupby('query_category').apply(lambda x: get_clicks(x))\n",
    "print('mean: ', query_clicks.mean())\n",
    "print('std: ', query_clicks.std(ddof=0))\n",
    "query_clicks"
   ]
  },
  {
   "cell_type": "markdown",
   "id": "aada6ab4",
   "metadata": {},
   "source": [
    "classes news and personalization have 0.0 percent of clicks. the result always equals zero in these cases, so I remove them. "
   ]
  },
  {
   "cell_type": "code",
   "execution_count": 631,
   "id": "1609388f",
   "metadata": {},
   "outputs": [
    {
     "name": "stdout",
     "output_type": "stream",
     "text": [
      "mean:  0.3709364319016762\n",
      "std:  0.14383611331938492\n"
     ]
    },
    {
     "data": {
      "text/plain": [
       "app_category\n",
       "arcade             0.295820\n",
       "casual             0.358209\n",
       "family             0.366197\n",
       "finance            0.265542\n",
       "maps-navigation    0.247634\n",
       "media-video        0.401392\n",
       "photography        0.293151\n",
       "productivity       0.537129\n",
       "racing             0.221491\n",
       "shopping           0.287912\n",
       "social             0.647059\n",
       "sports-game        0.251429\n",
       "strategy           0.330579\n",
       "tools              0.689567\n",
       "dtype: float64"
      ]
     },
     "execution_count": 631,
     "metadata": {},
     "output_type": "execute_result"
    }
   ],
   "source": [
    "app_clicks = df.groupby('app_category').apply(lambda x: get_clicks(x))\n",
    "print('mean: ', app_clicks.mean())\n",
    "print('std: ', app_clicks.std(ddof=0))\n",
    "app_clicks"
   ]
  },
  {
   "cell_type": "code",
   "execution_count": 632,
   "id": "55bdb79a",
   "metadata": {},
   "outputs": [
    {
     "name": "stdout",
     "output_type": "stream",
     "text": [
      "mean:  0.34797676665407634\n",
      "std:  0.08095554542070264\n"
     ]
    },
    {
     "data": {
      "text/plain": [
       "published_year\n",
       "2015    0.394167\n",
       "2016    0.354286\n",
       "2017    0.282993\n",
       "2018    0.207006\n",
       "2019    0.399408\n",
       "2020    0.450000\n",
       "dtype: float64"
      ]
     },
     "execution_count": 632,
     "metadata": {},
     "output_type": "execute_result"
    }
   ],
   "source": [
    "df['published_year'] = df['published_at'].apply(lambda x: x.split('-')[0])\n",
    "published_year_clicks = df.groupby('published_year').apply(lambda x: get_clicks(x))\n",
    "print('mean: ', published_year_clicks.mean())\n",
    "print('std: ', published_year_clicks.std(ddof=0))\n",
    "published_year_clicks"
   ]
  },
  {
   "cell_type": "markdown",
   "id": "c64f30c2",
   "metadata": {},
   "source": [
    "If std is not close to zero, it means the related data may be useful."
   ]
  },
  {
   "cell_type": "code",
   "execution_count": 701,
   "id": "6aaaf879",
   "metadata": {},
   "outputs": [
    {
     "data": {
      "text/plain": [
       "Text(0.5, 1.0, 'published year')"
      ]
     },
     "execution_count": 701,
     "metadata": {},
     "output_type": "execute_result"
    },
    {
     "data": {
      "image/png": "[encoded data removed]",
      "text/plain": [
       "<Figure size 432x288 with 1 Axes>"
      ]
     },
     "metadata": {
      "needs_background": "light"
     },
     "output_type": "display_data"
    }
   ],
   "source": [
    "df['published_year'].hist()\n",
    "plt.title('published year')"
   ]
  },
  {
   "cell_type": "code",
   "execution_count": 634,
   "id": "411c7c1f",
   "metadata": {},
   "outputs": [
    {
     "name": "stdout",
     "output_type": "stream",
     "text": [
      "category_similarity\n",
      "False    0.266853\n",
      "True     0.389128\n",
      "dtype: float64\n"
     ]
    }
   ],
   "source": [
    "df['category_similarity'] = (df['query_category']==df['app_category'])\n",
    "same_category = df.groupby('category_similarity').apply(lambda x: get_clicks(x))\n",
    "print(same_category) "
   ]
  },
  {
   "cell_type": "markdown",
   "id": "114c6f02",
   "metadata": {},
   "source": [
    "It indicates that the advertisements which has the same category as query has more chance of user's click"
   ]
  },
  {
   "cell_type": "code",
   "execution_count": 635,
   "id": "a00bf048",
   "metadata": {},
   "outputs": [
    {
     "data": {
      "text/html": [
       "<div>\n",
       "<style scoped>\n",
       "    .dataframe tbody tr th:only-of-type {\n",
       "        vertical-align: middle;\n",
       "    }\n",
       "\n",
       "    .dataframe tbody tr th {\n",
       "        vertical-align: top;\n",
       "    }\n",
       "\n",
       "    .dataframe thead th {\n",
       "        text-align: right;\n",
       "    }\n",
       "</style>\n",
       "<table border=\"1\" class=\"dataframe\">\n",
       "  <thead>\n",
       "    <tr style=\"text-align: right;\">\n",
       "      <th></th>\n",
       "      <th>0</th>\n",
       "      <th>1</th>\n",
       "    </tr>\n",
       "    <tr>\n",
       "      <th>rate</th>\n",
       "      <th></th>\n",
       "      <th></th>\n",
       "    </tr>\n",
       "  </thead>\n",
       "  <tbody>\n",
       "    <tr>\n",
       "      <th>2.1</th>\n",
       "      <td>0.636364</td>\n",
       "      <td>22.0</td>\n",
       "    </tr>\n",
       "    <tr>\n",
       "      <th>3.8</th>\n",
       "      <td>0.666667</td>\n",
       "      <td>39.0</td>\n",
       "    </tr>\n",
       "    <tr>\n",
       "      <th>3.9</th>\n",
       "      <td>0.437500</td>\n",
       "      <td>32.0</td>\n",
       "    </tr>\n",
       "    <tr>\n",
       "      <th>4.0</th>\n",
       "      <td>0.361111</td>\n",
       "      <td>36.0</td>\n",
       "    </tr>\n",
       "    <tr>\n",
       "      <th>4.1</th>\n",
       "      <td>0.509804</td>\n",
       "      <td>51.0</td>\n",
       "    </tr>\n",
       "    <tr>\n",
       "      <th>4.2</th>\n",
       "      <td>0.163380</td>\n",
       "      <td>355.0</td>\n",
       "    </tr>\n",
       "    <tr>\n",
       "      <th>4.3</th>\n",
       "      <td>0.368421</td>\n",
       "      <td>171.0</td>\n",
       "    </tr>\n",
       "    <tr>\n",
       "      <th>4.6</th>\n",
       "      <td>0.434783</td>\n",
       "      <td>23.0</td>\n",
       "    </tr>\n",
       "    <tr>\n",
       "      <th>4.8</th>\n",
       "      <td>0.544304</td>\n",
       "      <td>158.0</td>\n",
       "    </tr>\n",
       "    <tr>\n",
       "      <th>4.9</th>\n",
       "      <td>0.413284</td>\n",
       "      <td>271.0</td>\n",
       "    </tr>\n",
       "    <tr>\n",
       "      <th>5.1</th>\n",
       "      <td>0.484375</td>\n",
       "      <td>128.0</td>\n",
       "    </tr>\n",
       "    <tr>\n",
       "      <th>5.2</th>\n",
       "      <td>0.277311</td>\n",
       "      <td>238.0</td>\n",
       "    </tr>\n",
       "    <tr>\n",
       "      <th>5.3</th>\n",
       "      <td>0.345876</td>\n",
       "      <td>691.0</td>\n",
       "    </tr>\n",
       "    <tr>\n",
       "      <th>5.4</th>\n",
       "      <td>0.581395</td>\n",
       "      <td>43.0</td>\n",
       "    </tr>\n",
       "    <tr>\n",
       "      <th>5.5</th>\n",
       "      <td>0.635135</td>\n",
       "      <td>74.0</td>\n",
       "    </tr>\n",
       "    <tr>\n",
       "      <th>5.6</th>\n",
       "      <td>0.378205</td>\n",
       "      <td>312.0</td>\n",
       "    </tr>\n",
       "    <tr>\n",
       "      <th>5.7</th>\n",
       "      <td>0.193473</td>\n",
       "      <td>429.0</td>\n",
       "    </tr>\n",
       "    <tr>\n",
       "      <th>5.8</th>\n",
       "      <td>0.503254</td>\n",
       "      <td>461.0</td>\n",
       "    </tr>\n",
       "    <tr>\n",
       "      <th>5.9</th>\n",
       "      <td>0.240000</td>\n",
       "      <td>50.0</td>\n",
       "    </tr>\n",
       "    <tr>\n",
       "      <th>6.1</th>\n",
       "      <td>0.324841</td>\n",
       "      <td>157.0</td>\n",
       "    </tr>\n",
       "    <tr>\n",
       "      <th>6.2</th>\n",
       "      <td>0.512195</td>\n",
       "      <td>41.0</td>\n",
       "    </tr>\n",
       "    <tr>\n",
       "      <th>6.3</th>\n",
       "      <td>0.205128</td>\n",
       "      <td>429.0</td>\n",
       "    </tr>\n",
       "    <tr>\n",
       "      <th>6.4</th>\n",
       "      <td>0.253623</td>\n",
       "      <td>138.0</td>\n",
       "    </tr>\n",
       "    <tr>\n",
       "      <th>6.6</th>\n",
       "      <td>0.666667</td>\n",
       "      <td>51.0</td>\n",
       "    </tr>\n",
       "  </tbody>\n",
       "</table>\n",
       "</div>"
      ],
      "text/plain": [
       "             0      1\n",
       "rate                 \n",
       "2.1   0.636364   22.0\n",
       "3.8   0.666667   39.0\n",
       "3.9   0.437500   32.0\n",
       "4.0   0.361111   36.0\n",
       "4.1   0.509804   51.0\n",
       "4.2   0.163380  355.0\n",
       "4.3   0.368421  171.0\n",
       "4.6   0.434783   23.0\n",
       "4.8   0.544304  158.0\n",
       "4.9   0.413284  271.0\n",
       "5.1   0.484375  128.0\n",
       "5.2   0.277311  238.0\n",
       "5.3   0.345876  691.0\n",
       "5.4   0.581395   43.0\n",
       "5.5   0.635135   74.0\n",
       "5.6   0.378205  312.0\n",
       "5.7   0.193473  429.0\n",
       "5.8   0.503254  461.0\n",
       "5.9   0.240000   50.0\n",
       "6.1   0.324841  157.0\n",
       "6.2   0.512195   41.0\n",
       "6.3   0.205128  429.0\n",
       "6.4   0.253623  138.0\n",
       "6.6   0.666667   51.0"
      ]
     },
     "execution_count": 635,
     "metadata": {},
     "output_type": "execute_result"
    }
   ],
   "source": [
    "def get_rate_cat(x):\n",
    "    rate_clicks = get_clicks(x)\n",
    "    return pd.Series(data=[rate_clicks, x.shape[0]])\n",
    "rate_cat = df.groupby('rate').apply(lambda x: get_rate_cat(x))\n",
    "rate_cat"
   ]
  },
  {
   "cell_type": "code",
   "execution_count": 702,
   "id": "8be824f8",
   "metadata": {},
   "outputs": [
    {
     "data": {
      "text/plain": [
       "Text(0.5, 1.0, 'comment')"
      ]
     },
     "execution_count": 702,
     "metadata": {},
     "output_type": "execute_result"
    },
    {
     "data": {
      "image/png": "[encoded data removed]",
      "text/plain": [
       "<Figure size 432x288 with 1 Axes>"
      ]
     },
     "metadata": {
      "needs_background": "light"
     },
     "output_type": "display_data"
    }
   ],
   "source": [
    "df['comment_norm'] = np.log(df.comment_count+1)\n",
    "df['comment_norm'].hist()\n",
    "plt.title('comment') \n",
    "\n",
    "# replace this with comment_count"
   ]
  },
  {
   "cell_type": "code",
   "execution_count": 703,
   "id": "edcc4e5c",
   "metadata": {},
   "outputs": [
    {
     "data": {
      "text/plain": [
       "Text(0.5, 1.0, 'install')"
      ]
     },
     "execution_count": 703,
     "metadata": {},
     "output_type": "execute_result"
    },
    {
     "data": {
      "image/png": "[encoded data removed]",
      "text/plain": [
       "<Figure size 432x288 with 1 Axes>"
      ]
     },
     "metadata": {
      "needs_background": "light"
     },
     "output_type": "display_data"
    }
   ],
   "source": [
    "df['installed_norm'] = np.log(df.installed_count+1)\n",
    "df['installed_norm'].hist()\n",
    "plt.title('install') \n",
    "\n",
    "# discard this"
   ]
  },
  {
   "cell_type": "code",
   "execution_count": 638,
   "id": "54a3354b",
   "metadata": {},
   "outputs": [
    {
     "name": "stdout",
     "output_type": "stream",
     "text": [
      "<class 'pandas.core.frame.DataFrame'>\n",
      "RangeIndex: 5407 entries, 0 to 5406\n",
      "Data columns (total 14 columns):\n",
      " #   Column                         Non-Null Count  Dtype  \n",
      "---  ------                         --------------  -----  \n",
      " 0   app_category                   5407 non-null   object \n",
      " 1   query_category                 5407 non-null   object \n",
      " 2   published_at                   5407 non-null   object \n",
      " 3   rate                           4400 non-null   float64\n",
      " 4   comment_count                  5407 non-null   int64  \n",
      " 5   installed_count                5407 non-null   float64\n",
      " 6   image_count                    5407 non-null   int64  \n",
      " 7   is_specific                    5407 non-null   bool   \n",
      " 8   app2query_semantic_similarity  5115 non-null   float64\n",
      " 9   result                         5407 non-null   int64  \n",
      " 10  published_year                 5407 non-null   object \n",
      " 11  category_similarity            5407 non-null   bool   \n",
      " 12  comment_norm                   5407 non-null   float64\n",
      " 13  installed_norm                 5407 non-null   float64\n",
      "dtypes: bool(2), float64(5), int64(3), object(4)\n",
      "memory usage: 517.6+ KB\n"
     ]
    }
   ],
   "source": [
    "# df = df[(df['query_category']!='weather') & (df['query_category']!='word_trivia') & (df['query_category']!='lifestyle')]\n",
    "df.info()"
   ]
  },
  {
   "cell_type": "code",
   "execution_count": 640,
   "id": "e0f9c5fb",
   "metadata": {},
   "outputs": [
    {
     "data": {
      "text/plain": [
       "Other              1277\n",
       "finance             716\n",
       "productivity        388\n",
       "tools               362\n",
       "racing              335\n",
       "media-video         313\n",
       "photography         276\n",
       "maps-navigation     266\n",
       "arcade              218\n",
       "shopping            209\n",
       "family              184\n",
       "casual              172\n",
       "communication       142\n",
       "sports-game         128\n",
       "strategy             93\n",
       "education            70\n",
       "entertainment        52\n",
       "social               46\n",
       "travel-local         34\n",
       "action               29\n",
       "music-audio          21\n",
       "health-fitness       19\n",
       "puzzle               17\n",
       "books-reference       9\n",
       "business              9\n",
       "personalization       6\n",
       "Name: query_category, dtype: int64"
      ]
     },
     "execution_count": 640,
     "metadata": {},
     "output_type": "execute_result"
    }
   ],
   "source": [
    "# remove categories with values less than 5        \n",
    "df = df.groupby('query_category').filter(lambda grp: len(grp) > 5)\n",
    "df['query_category'].value_counts()"
   ]
  },
  {
   "cell_type": "code",
   "execution_count": 641,
   "id": "d794330e",
   "metadata": {},
   "outputs": [
    {
     "data": {
      "text/plain": [
       "finance            1126\n",
       "maps-navigation     628\n",
       "racing              456\n",
       "shopping            455\n",
       "media-video         427\n",
       "productivity        404\n",
       "tools               393\n",
       "photography         365\n",
       "arcade              311\n",
       "family              284\n",
       "casual              201\n",
       "sports-game         175\n",
       "strategy            120\n",
       "social               46\n",
       "Name: app_category, dtype: int64"
      ]
     },
     "execution_count": 641,
     "metadata": {},
     "output_type": "execute_result"
    }
   ],
   "source": [
    "df.app_category.value_counts()"
   ]
  },
  {
   "cell_type": "code",
   "execution_count": 642,
   "id": "5d4939e4",
   "metadata": {},
   "outputs": [],
   "source": [
    "from sklearn.model_selection import train_test_split\n",
    "X = df.drop(columns='result')\n",
    "Y = df['result']\n",
    "train_test = train_test_split(X, Y, test_size=0.2, stratify=X[['app_category', 'query_category']])\n",
    "for el in train_test:\n",
    "    el.reset_index(drop=True, inplace=True)\n",
    "training_data, testing_data, Y_train, Y_test = train_test"
   ]
  },
  {
   "cell_type": "code",
   "execution_count": 643,
   "id": "09bf4753",
   "metadata": {},
   "outputs": [
    {
     "name": "stdout",
     "output_type": "stream",
     "text": [
      "(4312, 13)\n",
      "(1079, 13)\n"
     ]
    }
   ],
   "source": [
    "print(training_data.shape)\n",
    "print(testing_data.shape)"
   ]
  },
  {
   "cell_type": "code",
   "execution_count": 644,
   "id": "82ed6e3d",
   "metadata": {},
   "outputs": [
    {
     "data": {
      "text/plain": [
       "Index(['app_category', 'query_category', 'published_at', 'rate',\n",
       "       'comment_count', 'installed_count', 'image_count', 'is_specific',\n",
       "       'app2query_semantic_similarity', 'published_year',\n",
       "       'category_similarity', 'comment_norm', 'installed_norm'],\n",
       "      dtype='object')"
      ]
     },
     "execution_count": 644,
     "metadata": {},
     "output_type": "execute_result"
    }
   ],
   "source": [
    "training_data.columns"
   ]
  },
  {
   "cell_type": "code",
   "execution_count": 645,
   "id": "0a1e1ca6",
   "metadata": {},
   "outputs": [
    {
     "name": "stdout",
     "output_type": "stream",
     "text": [
      "<class 'pandas.core.frame.DataFrame'>\n",
      "RangeIndex: 4312 entries, 0 to 4311\n",
      "Data columns (total 10 columns):\n",
      " #   Column                         Non-Null Count  Dtype  \n",
      "---  ------                         --------------  -----  \n",
      " 0   app_category                   4312 non-null   object \n",
      " 1   query_category                 4312 non-null   object \n",
      " 2   rate                           4312 non-null   float64\n",
      " 3   installed_count                4312 non-null   float64\n",
      " 4   image_count                    4312 non-null   int64  \n",
      " 5   is_specific                    4312 non-null   bool   \n",
      " 6   app2query_semantic_similarity  4312 non-null   float64\n",
      " 7   published_year                 4312 non-null   object \n",
      " 8   category_similarity            4312 non-null   bool   \n",
      " 9   comment_norm                   4312 non-null   float64\n",
      "dtypes: bool(2), float64(4), int64(1), object(3)\n",
      "memory usage: 278.0+ KB\n"
     ]
    }
   ],
   "source": [
    "# Clean data\n",
    "pd.options.mode.chained_assignment = None # suppress chain assignment warning\n",
    "\n",
    "def clean_data(dataframe):\n",
    "    dataframe.rate.fillna(value=dataframe.rate.median(), inplace=True)\n",
    "    dataframe.app2query_semantic_similarity.fillna(value=dataframe.app2query_semantic_similarity.median(), inplace=True)\n",
    "    dataframe.drop(columns=['published_at', 'comment_count', 'installed_norm'], inplace=True)\n",
    "    return dataframe\n",
    "\n",
    "training_data = clean_data(training_data)\n",
    "testing_data = clean_data(testing_data)\n",
    "\n",
    "training_data.info()"
   ]
  },
  {
   "cell_type": "code",
   "execution_count": 646,
   "id": "844260e0",
   "metadata": {},
   "outputs": [],
   "source": [
    "# Scaling\n",
    "\n",
    "from sklearn import preprocessing\n",
    "scaler = preprocessing.StandardScaler()\n",
    "scaler = scaler.fit(training_data[['installed_count', 'comment_norm', 'app2query_semantic_similarity']])\n",
    "# training_scaled = training_data.copy()\n",
    "training_data[['installed_count', 'comment_norm', 'app2query_semantic_similarity']] = scaler.transform(training_data[['installed_count', 'comment_norm', 'app2query_semantic_similarity']])\n",
    "\n",
    "# testing_scaled = testing_data.copy()\n",
    "testing_data[['installed_count', 'comment_norm', 'app2query_semantic_similarity']] = scaler.transform(testing_data[['installed_count', 'comment_norm', 'app2query_semantic_similarity']])"
   ]
  },
  {
   "cell_type": "code",
   "execution_count": 647,
   "id": "1a8835ef",
   "metadata": {},
   "outputs": [],
   "source": [
    "# One-Hot Encoding\n",
    "\n",
    "training_data[['rate', 'image_count']] = training_data[['rate', 'image_count']].astype(str)\n",
    "testing_data[['rate', 'image_count']] = testing_data[['rate', 'image_count']].astype(str)\n",
    "\n",
    "encoder = preprocessing.OneHotEncoder(handle_unknown='ignore')\n",
    "encoder.fit(training_data[['app_category', 'query_category', 'rate', 'image_count', 'published_year']])\n",
    "encoder.categories_\n",
    "train_enc = pd.DataFrame(encoder.transform(training_data[['app_category', 'query_category', 'rate', 'image_count', 'published_year']]).toarray())\n",
    "test_enc = pd.DataFrame(encoder.transform(testing_data[['app_category', 'query_category', 'rate', 'image_count', 'published_year']]).toarray())\n",
    "train_enc.columns = encoder.get_feature_names(['app_cat', 'query_cat', 'rate', 'image', 'year'])\n",
    "test_enc.columns = encoder.get_feature_names(['app_cat', 'query_cat', 'rate', 'image', 'year'])\n",
    "X_train = pd.concat([training_data, train_enc], axis=1)\n",
    "X_test = pd.concat([testing_data, test_enc], axis=1)\n",
    "\n",
    "# drop category columns\n",
    "X_train.drop(columns=['app_category', 'query_category', 'rate', 'image_count', 'published_year'], inplace=True)\n",
    "X_test.drop(columns=['app_category', 'query_category', 'rate', 'image_count', 'published_year'], inplace=True)"
   ]
  },
  {
   "cell_type": "code",
   "execution_count": 648,
   "id": "a3587701",
   "metadata": {},
   "outputs": [],
   "source": [
    "from sklearn.model_selection import cross_val_score\n",
    "from sklearn.model_selection import cross_validate\n",
    "from sklearn.model_selection import KFold\n",
    "from sklearn import metrics\n",
    "from sklearn.linear_model import LogisticRegression\n",
    "from sklearn.tree import DecisionTreeClassifier\n",
    "from sklearn.ensemble import RandomForestClassifier \n",
    "from sklearn.naive_bayes import GaussianNB \n",
    "from sklearn.svm import SVC"
   ]
  },
  {
   "cell_type": "code",
   "execution_count": 406,
   "id": "0e438110",
   "metadata": {},
   "outputs": [],
   "source": [
    "# dt = DecisionTreeClassifier(random_state=7).fit(X_train, Y_train)\n",
    "# kfold = model_selection.KFold(n_splits=10, random_state=7, shuffle=True)\n",
    "# scoring = ['f1', 'accuracy']\n",
    "# cv = cross_validate(dt, X_train, Y_train, cv=kfold, scoring=scoring)\n",
    "# print(cv)\n",
    "# # cv.mean()\n",
    "\n",
    "# rf = RandomForestClassifier(random_state=7).fit(X_train, Y_train)\n",
    "# kfold = model_selection.KFold(n_splits=10, random_state=7, shuffle=True)\n",
    "# scoring = ['f1', 'accuracy']\n",
    "# cv = cross_validate(rf, X_train, Y_train, cv=kfold, scoring=scoring)\n",
    "# print(cv)\n",
    "\n",
    "# knn = KNeighborsClassifier().fit(X_train, Y_train)\n",
    "# kfold = model_selection.KFold(n_splits=10, random_state=7, shuffle=True)\n",
    "# scoring = ['f1', 'accuracy']\n",
    "# cv = cross_validate(knn, X_train, Y_train, cv=kfold, scoring=scoring)\n",
    "# print(cv)\n",
    "\n",
    "# gnb = GaussianNB().fit(X_train, Y_train)\n",
    "# kfold = model_selection.KFold(n_splits=10, random_state=7, shuffle=True)\n",
    "# scoring = ['f1', 'accuracy']\n",
    "# cv = cross_validate(gnb, X_train, Y_train, cv=kfold, scoring=scoring)\n",
    "# cv\n",
    "\n",
    "# sv = SVC(probability=True).fit(X_train, Y_train)\n",
    "# kfold = model_selection.KFold(n_splits=10, random_state=7, shuffle=True)\n",
    "# scoring = ['f1', 'accuracy']\n",
    "# cv = cross_validate(sv, X_train, Y_train, cv=kfold, scoring=scoring)\n",
    "# cv"
   ]
  },
  {
   "cell_type": "code",
   "execution_count": 483,
   "id": "9d6e34fc",
   "metadata": {},
   "outputs": [],
   "source": [
    "# train logistic regression model \n",
    "\n",
    "from sklearn.model_selection import StratifiedKFold\n",
    "def train_model(X_train, Y_train):\n",
    "    print('training model...')\n",
    "    lr = LogisticRegression(max_iter=2000).fit(X_train, Y_train)\n",
    "    kfold = model_selection.StratifiedKFold(n_splits=10, random_state=7, shuffle=True)\n",
    "    scoring = ['f1', 'accuracy', 'recall', 'precision']\n",
    "    cv = cross_validate(lr, X_train, Y_train, cv=kfold, scoring=scoring)\n",
    "    for key in sorted((cv.keys()))[2:]:\n",
    "        print(key, ': %.3f' %np.average(cv[key]))\n",
    "    lr = lr.fit(X_train, Y_train)\n",
    "    return lr"
   ]
  },
  {
   "cell_type": "code",
   "execution_count": 484,
   "id": "3cd5ae01",
   "metadata": {},
   "outputs": [],
   "source": [
    "# implement the model on test data\n",
    "\n",
    "def predict_test(lr, X_test, Y_test):\n",
    "    print('\\npredicting...')\n",
    "    lr_pred = lr.predict(X_test)\n",
    "    print('accuracy: %.3f' %metrics.accuracy_score(Y_test, lr_pred))\n",
    "    print('f1 score: %.3f' %metrics.f1_score(Y_test, lr_pred))\n",
    "    print('precision: %.3f' %metrics.precision_score(Y_test, lr_pred))\n",
    "    print('recall: %.3f'% metrics.recall_score(Y_test, lr_pred))"
   ]
  },
  {
   "cell_type": "code",
   "execution_count": 649,
   "id": "b34cd9c9",
   "metadata": {},
   "outputs": [
    {
     "name": "stdout",
     "output_type": "stream",
     "text": [
      "training model...\n",
      "test_accuracy : 0.728\n",
      "test_f1 : 0.504\n",
      "test_precision : 0.636\n",
      "test_recall : 0.418\n",
      "\n",
      "predicting...\n",
      "accuracy: 0.683\n",
      "f1 score: 0.469\n",
      "precision: 0.632\n",
      "recall: 0.373\n"
     ]
    }
   ],
   "source": [
    "# train data with outliers\n",
    "lr = train_model(X_train, Y_train)\n",
    "predict_test(lr, X_test, Y_test)"
   ]
  },
  {
   "cell_type": "code",
   "execution_count": 650,
   "id": "a1e99112",
   "metadata": {},
   "outputs": [
    {
     "name": "stdout",
     "output_type": "stream",
     "text": [
      "training model...\n",
      "test_accuracy : 0.696\n",
      "test_f1 : 0.643\n",
      "test_precision : 0.674\n",
      "test_recall : 0.616\n",
      "\n",
      "predicting...\n",
      "accuracy: 0.684\n",
      "f1 score: 0.573\n",
      "precision: 0.581\n",
      "recall: 0.565\n",
      "Counter({0: 2880, 1: 1432})\n",
      "Counter({0: 2880, 1: 2304})\n"
     ]
    }
   ],
   "source": [
    "# oversampling minority class (result = 1)\n",
    "from imblearn.over_sampling import SMOTE\n",
    "\n",
    "sm = SMOTE(sampling_strategy=0.8)\n",
    "X_oversampled, y_oversampled = sm.fit_resample(X_train, Y_train)\n",
    "lr_oversample = train_model(X_oversampled, y_oversampled)\n",
    "predict_test(lr_oversample, X_test, Y_test)\n",
    "print(Counter(Y_train))\n",
    "print(Counter(y_oversampled))\n",
    "\n",
    "# X_train_resampled = X_oversampled\n",
    "# y_train_resampled = y_oversampled"
   ]
  },
  {
   "cell_type": "code",
   "execution_count": 651,
   "id": "bb0ecbab",
   "metadata": {},
   "outputs": [
    {
     "name": "stdout",
     "output_type": "stream",
     "text": [
      "training model...\n",
      "test_accuracy : 0.689\n",
      "test_f1 : 0.689\n",
      "test_precision : 0.688\n",
      "test_recall : 0.690\n",
      "\n",
      "predicting...\n",
      "accuracy: 0.682\n",
      "f1 score: 0.600\n",
      "precision: 0.569\n",
      "recall: 0.635\n",
      "Counter({0: 2304, 1: 2304})\n"
     ]
    }
   ],
   "source": [
    "# Combining random undersampling with SMOTE oversampling\n",
    "rs = RandomUnderSampler(sampling_strategy='majority')\n",
    "X_resampled, y_resampled = rs.fit_resample(X_oversampled, y_oversampled)\n",
    "lr_resample = train_model(X_resampled, y_resampled)\n",
    "predict_test(lr_resample, X_test, Y_test)\n",
    "print(Counter(y_resampled))\n",
    "\n",
    "X_train_resampled = X_resampled\n",
    "y_train_resampled = y_resampled\n",
    "\n",
    "for c in X_train_resampled[X_train_resampled.columns[5:]]:\n",
    "    X_train_resampled.loc[:,c] = X_train_resampled.loc[:,c].apply(lambda x: 0.0 if x < 0.5 else 1.0)"
   ]
  },
  {
   "cell_type": "code",
   "execution_count": 652,
   "id": "da323c5c",
   "metadata": {},
   "outputs": [
    {
     "name": "stdout",
     "output_type": "stream",
     "text": [
      "training model...\n",
      "test_accuracy : 0.694\n",
      "test_f1 : 0.647\n",
      "test_precision : 0.673\n",
      "test_recall : 0.623\n",
      "\n",
      "predicting...\n",
      "accuracy: 0.682\n",
      "f1 score: 0.576\n",
      "precision: 0.577\n",
      "recall: 0.575\n",
      "Counter({0: 2827, 1: 2304})\n"
     ]
    }
   ],
   "source": [
    "# Combining TomekLinks resampling with SMOTE oversampling \n",
    "from imblearn.under_sampling import TomekLinks\n",
    "tl = TomekLinks(sampling_strategy='majority')\n",
    "X_resampled, y_resampled = tl.fit_resample(X_oversampled, y_oversampled)\n",
    "lr_resample = train_model(X_resampled, y_resampled)\n",
    "predict_test(lr_resample, X_test, Y_test)\n",
    "print(Counter(y_resampled))"
   ]
  },
  {
   "cell_type": "code",
   "execution_count": 653,
   "id": "1f86b8aa",
   "metadata": {},
   "outputs": [
    {
     "name": "stdout",
     "output_type": "stream",
     "text": [
      "\n",
      "RandomUnderSampler\n",
      "training model...\n",
      "test_accuracy : 0.679\n",
      "test_f1 : 0.672\n",
      "test_precision : 0.688\n",
      "test_recall : 0.658\n",
      "\n",
      "predicting...\n",
      "accuracy: 0.685\n",
      "f1 score: 0.590\n",
      "precision: 0.576\n",
      "recall: 0.605\n",
      "\n",
      "AllKNN\n",
      "training model...\n",
      "test_accuracy : 0.772\n",
      "test_f1 : 0.768\n",
      "test_precision : 0.811\n",
      "test_recall : 0.731\n",
      "\n",
      "predicting...\n",
      "accuracy: 0.648\n",
      "f1 score: 0.618\n",
      "precision: 0.521\n",
      "recall: 0.758\n",
      "\n",
      "SMOTEENN\n",
      "training model...\n",
      "test_accuracy : 0.859\n",
      "test_f1 : 0.847\n",
      "test_precision : 0.861\n",
      "test_recall : 0.835\n",
      "\n",
      "predicting...\n",
      "accuracy: 0.689\n",
      "f1 score: 0.625\n",
      "precision: 0.570\n",
      "recall: 0.691\n"
     ]
    }
   ],
   "source": [
    "# undersampling majority class (result = 0) \n",
    "# using different methods\n",
    "\n",
    "from imblearn.under_sampling import RandomUnderSampler\n",
    "print('\\nRandomUnderSampler')\n",
    "rs = RandomUnderSampler(random_state=7)\n",
    "X_undersample, Y_undersample = rs.fit_resample(X_train, Y_train)\n",
    "lr_undersample = train_model(X_undersample, Y_undersample)\n",
    "predict_test(lr_undersample, X_test, Y_test)\n",
    "\n",
    "from imblearn.under_sampling import AllKNN\n",
    "print('\\nAllKNN')\n",
    "allknn = AllKNN()\n",
    "X_undersample, Y_undersample = allknn.fit_resample(X_train, Y_train)\n",
    "lr_undersample = train_model(X_undersample, Y_undersample)\n",
    "predict_test(lr_undersample, X_test, Y_test)\n",
    "\n",
    "from imblearn.combine import SMOTEENN\n",
    "print('\\nSMOTEENN')\n",
    "smote_enn = SMOTEENN(random_state=7)\n",
    "X_resampled, Y_resampled = smote_enn.fit_resample(X_train, Y_train)\n",
    "lr_resampled = train_model(X_resampled, Y_resampled)\n",
    "predict_test(lr_resampled, X_test, Y_test)"
   ]
  },
  {
   "cell_type": "code",
   "execution_count": 654,
   "id": "07a23c07",
   "metadata": {},
   "outputs": [
    {
     "name": "stdout",
     "output_type": "stream",
     "text": [
      "training model...\n",
      "test_accuracy : 0.681\n",
      "test_f1 : 0.673\n",
      "test_precision : 0.691\n",
      "test_recall : 0.656\n",
      "\n",
      "predicting...\n",
      "accuracy: 0.677\n",
      "f1 score: 0.593\n",
      "precision: 0.562\n",
      "recall: 0.627\n",
      "training model...\n",
      "test_accuracy : 0.679\n",
      "test_f1 : 0.672\n",
      "test_precision : 0.688\n",
      "test_recall : 0.658\n",
      "\n",
      "predicting...\n",
      "accuracy: 0.685\n",
      "f1 score: 0.590\n",
      "precision: 0.576\n",
      "recall: 0.605\n",
      "Counter({0: 2880, 1: 1432})\n",
      "Counter({0: 2880, 1: 2304})\n",
      "Counter({0: 2304, 1: 2304})\n",
      "training model...\n",
      "test_accuracy : 0.685\n",
      "test_f1 : 0.681\n",
      "test_precision : 0.689\n",
      "test_recall : 0.672\n",
      "\n",
      "predicting...\n",
      "accuracy: 0.674\n",
      "f1 score: 0.596\n",
      "precision: 0.557\n",
      "recall: 0.642\n"
     ]
    }
   ],
   "source": [
    "# Combining both undersampling and oversampling with random sampler\n",
    "\n",
    "from imblearn.over_sampling import RandomOverSampler\n",
    "rs = RandomOverSampler(random_state=7)\n",
    "X_oversampled, y_oversampled = rs.fit_resample(X_train, Y_train)\n",
    "lr_oversampled = train_model(X_oversampled, y_oversampled)\n",
    "predict_test(lr_oversampled, X_test, Y_test)\n",
    "\n",
    "from imblearn.under_sampling import RandomUnderSampler\n",
    "rs = RandomUnderSampler(random_state=7)\n",
    "X_undersampled, y_undersampled = rs.fit_resample(X_train, Y_train)\n",
    "lr_undersampled = train_model(X_undersampled, y_undersampled)\n",
    "predict_test(lr_undersampled, X_test, Y_test)\n",
    "\n",
    "from collections import Counter\n",
    "\n",
    "rs = RandomOverSampler(sampling_strategy=0.8)\n",
    "X_oversampled, y_oversampled = rs.fit_resample(X_train, Y_train)\n",
    "rs = RandomUnderSampler(sampling_strategy='majority')\n",
    "X_undersampled, y_undersampled = rs.fit_resample(X_oversampled, y_oversampled)\n",
    "print(Counter(Y_train))\n",
    "print(Counter(y_oversampled))\n",
    "print(Counter(y_undersampled))\n",
    "\n",
    "lr_resampled = train_model(X_undersampled, y_undersampled)\n",
    "predict_test(lr_resampled, X_test, Y_test)"
   ]
  },
  {
   "cell_type": "markdown",
   "id": "ea2056db",
   "metadata": {},
   "source": [
    "Combining random undersampling with SMOTE oversampling performs better."
   ]
  },
  {
   "cell_type": "code",
   "execution_count": 678,
   "id": "bab07ac1",
   "metadata": {},
   "outputs": [
    {
     "name": "stderr",
     "output_type": "stream",
     "text": [
      "c:\\users\\jami\\appdata\\local\\programs\\python\\python39\\lib\\site-packages\\sklearn\\model_selection\\_search.py:922: UserWarning: One or more of the test scores are non-finite: [0.68296178        nan 0.68286411        nan 0.69060885 0.6899886\n",
      " 0.69132011 0.68953409        nan        nan        nan        nan\n",
      " 0.68296178        nan 0.68300334        nan        nan 0.68286411\n",
      " 0.68996856        nan 0.68279785 0.69084111 0.68286411 0.69138738\n",
      " 0.68310145        nan 0.68296178        nan 0.68296178 0.68317642\n",
      " 0.68996468        nan 0.68296178        nan 0.68296178 0.68235213\n",
      "        nan 0.68296178 0.69239223        nan 0.68753714 0.68279821\n",
      " 0.69216354 0.69116597        nan 0.69006288        nan        nan\n",
      "        nan        nan        nan 0.68296178        nan 0.68286411\n",
      "        nan 0.68286411        nan        nan        nan        nan\n",
      " 0.68319934        nan 0.68298639 0.6895127         nan 0.69127218\n",
      "        nan 0.68274121 0.68296178 0.69747656        nan        nan\n",
      "        nan        nan 0.68296178 0.68303638        nan 0.68899889\n",
      " 0.68964908 0.68296178        nan 0.68303345 0.69060293        nan\n",
      " 0.69338659        nan 0.68296178 0.69218789        nan        nan\n",
      " 0.69160034        nan        nan 0.68407505        nan        nan\n",
      "        nan        nan 0.69088074        nan        nan        nan\n",
      "        nan 0.69173479 0.68575619        nan 0.68609209        nan\n",
      " 0.69085373 0.68975993        nan        nan 0.6853768         nan\n",
      " 0.68286411 0.68309167 0.68286411        nan        nan 0.68296178\n",
      " 0.68275437 0.68303512 0.68286411        nan 0.68969897 0.69078346\n",
      "        nan        nan 0.69178251        nan 0.69405614 0.68295105\n",
      " 0.68289552 0.68871104 0.6904516  0.68286411        nan 0.68319934\n",
      " 0.68289552        nan 0.68680344        nan 0.68274914        nan\n",
      " 0.69183632 0.68296178 0.68286411 0.68296178 0.68997802        nan\n",
      " 0.68286411 0.69060295 0.68992648 0.68296178        nan        nan\n",
      "        nan        nan 0.68289552 0.69151441 0.68317496        nan\n",
      "        nan        nan        nan 0.6869839         nan        nan\n",
      " 0.68286411 0.68310381 0.68609209        nan        nan 0.68303166\n",
      " 0.69157892        nan        nan 0.69137791        nan 0.68286411\n",
      " 0.6831289         nan 0.69129267        nan 0.68296178 0.69504153\n",
      " 0.68324884        nan        nan        nan 0.68286411 0.69223842\n",
      " 0.68387383 0.68509192 0.68286411 0.69176776        nan        nan\n",
      " 0.68286411        nan        nan 0.69807465 0.68286411 0.66806932\n",
      "        nan        nan        nan 0.68298463 0.68295165 0.68300334\n",
      "        nan 0.68289552 0.68286411        nan        nan 0.68286411\n",
      " 0.69111829        nan        nan        nan 0.69394929        nan\n",
      " 0.68286411        nan        nan        nan 0.69144729 0.68296178\n",
      " 0.68407331        nan 0.69363832 0.69154555        nan        nan\n",
      " 0.69003983 0.68066553 0.68296178 0.68296178        nan        nan\n",
      "        nan 0.68274209 0.68296178        nan 0.68319934        nan\n",
      " 0.68348593 0.68956885        nan        nan        nan 0.68296178\n",
      " 0.68867604        nan        nan 0.68952821        nan 0.69172276\n",
      "        nan 0.68296178        nan 0.69688552 0.68949656 0.68446553\n",
      " 0.68289552        nan 0.68635887 0.6890929         nan 0.68956313\n",
      " 0.68286411        nan 0.69035843        nan        nan 0.68286411\n",
      "        nan        nan 0.68689187 0.68828378 0.68448602        nan\n",
      " 0.68286411        nan 0.68286411 0.6830831         nan 0.69151543\n",
      "        nan        nan 0.69259005 0.69238781        nan        nan\n",
      "        nan 0.68286411        nan 0.68726414 0.69167284        nan\n",
      "        nan 0.68552005        nan        nan        nan 0.69104947\n",
      " 0.68286411        nan 0.68370401 0.68286411        nan 0.69127625\n",
      "        nan 0.68646493        nan 0.68303433 0.68296178 0.68269146\n",
      "        nan        nan 0.68300334 0.68286411        nan 0.69218789\n",
      "        nan 0.68498233 0.69476392 0.68286411 0.6829374  0.68938261\n",
      "        nan 0.69098182        nan 0.68286411 0.68296178 0.68296178\n",
      " 0.68286411 0.68303173 0.68286411        nan        nan 0.69190965\n",
      " 0.68314754        nan        nan        nan 0.68298272        nan\n",
      " 0.68475615        nan        nan        nan 0.69025962 0.68996757\n",
      " 0.68296178 0.68298463        nan 0.69097019 0.69138836 0.68280017\n",
      "        nan        nan 0.69476392 0.69060885 0.68296178 0.68870004\n",
      "        nan 0.68616577 0.69209748 0.68286411        nan 0.68933065\n",
      " 0.68286411 0.69153684 0.68604541        nan 0.6831363         nan\n",
      "        nan        nan        nan        nan        nan 0.68743521\n",
      "        nan 0.69158639        nan        nan 0.68289552        nan\n",
      "        nan        nan        nan 0.68319934        nan 0.68296178\n",
      " 0.6838774  0.69192134 0.68296178        nan        nan 0.68296178\n",
      " 0.67857015 0.68935869 0.6844344  0.69079004        nan        nan\n",
      " 0.69138593 0.68479576 0.69221074        nan        nan        nan\n",
      "        nan 0.68947987 0.68610211        nan 0.68968867 0.68996037\n",
      "        nan        nan 0.68259766        nan 0.69247258        nan\n",
      "        nan 0.6865624         nan        nan        nan        nan\n",
      " 0.68873953        nan        nan        nan        nan        nan\n",
      "        nan 0.68296178 0.69153624 0.69227985        nan 0.68318989\n",
      " 0.68742557 0.68296178        nan 0.68296178 0.69271778        nan\n",
      "        nan 0.68296178 0.69219865        nan        nan 0.6921412\n",
      "        nan        nan 0.68309761        nan 0.68296178        nan\n",
      "        nan 0.68286411        nan        nan        nan 0.68312731\n",
      " 0.68296178 0.68286411        nan        nan        nan        nan\n",
      "        nan 0.68926684 0.68781011        nan 0.69157892        nan\n",
      " 0.68296178        nan        nan 0.68443085        nan        nan\n",
      "        nan        nan 0.68264775        nan 0.68296178 0.68286411\n",
      " 0.68707532        nan 0.68881683        nan 0.68303173        nan\n",
      " 0.68296178        nan]\n",
      "  warnings.warn(\n"
     ]
    },
    {
     "name": "stdout",
     "output_type": "stream",
     "text": [
      "Best Score: 0.6980746497283461\n",
      "Best Hyperparameters: {'C': 0.031810135902686304, 'penalty': 'l1', 'solver': 'liblinear'}\n"
     ]
    }
   ],
   "source": [
    "# Hyperparameter tuning\n",
    "\n",
    "from sklearn.model_selection import RandomizedSearchCV\n",
    "from sklearn.model_selection import RepeatedStratifiedKFold\n",
    "from scipy.stats import loguniform\n",
    "\n",
    "model = LogisticRegression(max_iter=2000)\n",
    "cv = RepeatedStratifiedKFold(n_splits=10, n_repeats=3, random_state=1)\n",
    "# define search space\n",
    "space = dict()\n",
    "space['solver'] = ['newton-cg', 'lbfgs', 'liblinear']\n",
    "space['penalty'] = ['none', 'l1', 'l2', 'elasticnet']\n",
    "space['C'] = loguniform(1e-2, 100)\n",
    "search = RandomizedSearchCV(model, space, n_iter=500, scoring='f1', n_jobs=-1, cv=cv, random_state=1)\n",
    "result = search.fit(X_train_resampled, y_train_resampled)\n",
    "# summarize result\n",
    "print('Best Score: %s' % result.best_score_)\n",
    "print('Best Hyperparameters: %s' % result.best_params_)"
   ]
  },
  {
   "cell_type": "code",
   "execution_count": 679,
   "id": "33fb5de7",
   "metadata": {},
   "outputs": [
    {
     "name": "stdout",
     "output_type": "stream",
     "text": [
      "\n",
      "predicting...\n",
      "accuracy: 0.669\n",
      "f1 score: 0.612\n",
      "precision: 0.547\n",
      "recall: 0.694\n"
     ]
    }
   ],
   "source": [
    "lr = LogisticRegression(max_iter=2000, penalty='l1', solver='liblinear', C=0.031810135902686304)\n",
    "lr = lr.fit(X_train_resampled, y_train_resampled)\n",
    "predict_test(lr, X_test, Y_test)"
   ]
  },
  {
   "cell_type": "code",
   "execution_count": 769,
   "id": "c66574b9",
   "metadata": {},
   "outputs": [
    {
     "name": "stdout",
     "output_type": "stream",
     "text": [
      "Best Threshold=0.351100, F-Score=0.634\n"
     ]
    },
    {
     "data": {
      "image/png": "[encoded data removed]",
      "text/plain": [
       "<Figure size 1008x576 with 1 Axes>"
      ]
     },
     "metadata": {
      "needs_background": "light"
     },
     "output_type": "display_data"
    }
   ],
   "source": [
    "# Optimal Threshold for Precision-Recall Curve\n",
    "from sklearn.metrics import precision_recall_curve\n",
    "\n",
    "model = LogisticRegression(solver='liblinear', penalty='l1', max_iter=2000)\n",
    "model.fit(X_train_resampled, y_train_resampled)\n",
    "# predict probabilities\n",
    "yhat = model.predict_proba(X_test)\n",
    "# keep probabilities for the positive outcome only\n",
    "yhat = yhat[:, 1]\n",
    "# calculate roc curves\n",
    "precision, recall, thresholds = precision_recall_curve(Y_test, yhat)\n",
    "# convert to f score\n",
    "fscore = (2 * precision * recall) / (precision + recall)\n",
    "# locate the index of the largest f score\n",
    "ix = np.argmax(fscore)\n",
    "print('Best Threshold=%f, F-Score=%.3f' % (thresholds[ix], fscore[ix]))\n",
    "# plot the roc curve for the model\n",
    "plt.figure(figsize=(14,8))\n",
    "no_skill = len(Y_test[Y_test==1]) / len(Y_test)\n",
    "plt.plot([0,1], [no_skill,no_skill], linestyle='--', label='No Skill')\n",
    "plt.plot(recall, precision, marker='.', label='Logistic')\n",
    "plt.scatter(recall[ix], precision[ix], marker='o', color='black', label='Best')\n",
    "# axis labels\n",
    "plt.xlabel('Recall')\n",
    "plt.ylabel('Precision')\n",
    "plt.legend()\n",
    "plt.show()"
   ]
  },
  {
   "cell_type": "code",
   "execution_count": 770,
   "id": "fb0b3f68",
   "metadata": {},
   "outputs": [
    {
     "name": "stdout",
     "output_type": "stream",
     "text": [
      "Feature: installed_count, Score: 0.26109\n",
      "Feature: is_specific, Score: 1.01850\n",
      "Feature: app2query_semantic_similarity, Score: 0.37608\n",
      "Feature: category_similarity, Score: 0.67687\n",
      "Feature: comment_norm, Score: -0.12084\n",
      "Feature: app_cat_arcade, Score: -0.83413\n",
      "Feature: app_cat_casual, Score: -0.29471\n",
      "Feature: app_cat_family, Score: 0.00000\n",
      "Feature: app_cat_finance, Score: -0.65388\n",
      "Feature: app_cat_maps-navigation, Score: 0.05297\n",
      "Feature: app_cat_media-video, Score: -0.02125\n",
      "Feature: app_cat_photography, Score: 0.17146\n",
      "Feature: app_cat_productivity, Score: 0.15985\n",
      "Feature: app_cat_racing, Score: -0.80691\n",
      "Feature: app_cat_shopping, Score: -1.27048\n",
      "Feature: app_cat_social, Score: 0.00000\n",
      "Feature: app_cat_sports-game, Score: -0.79124\n",
      "Feature: app_cat_strategy, Score: 0.00311\n",
      "Feature: app_cat_tools, Score: 0.00000\n",
      "Feature: query_cat_Other, Score: 0.29297\n",
      "Feature: query_cat_action, Score: 0.00000\n",
      "Feature: query_cat_arcade, Score: -0.21227\n",
      "Feature: query_cat_books-reference, Score: 0.00000\n",
      "Feature: query_cat_business, Score: 0.00000\n",
      "Feature: query_cat_casual, Score: 0.00000\n",
      "Feature: query_cat_communication, Score: -0.38933\n",
      "Feature: query_cat_education, Score: -0.43837\n",
      "Feature: query_cat_entertainment, Score: 0.06156\n",
      "Feature: query_cat_family, Score: -0.33026\n",
      "Feature: query_cat_finance, Score: -0.20986\n",
      "Feature: query_cat_health-fitness, Score: -0.03027\n",
      "Feature: query_cat_maps-navigation, Score: -0.08802\n",
      "Feature: query_cat_media-video, Score: 0.16139\n",
      "Feature: query_cat_music-audio, Score: -1.82207\n",
      "Feature: query_cat_personalization, Score: 0.00000\n",
      "Feature: query_cat_photography, Score: 0.00000\n",
      "Feature: query_cat_productivity, Score: 0.01703\n",
      "Feature: query_cat_puzzle, Score: -0.06027\n",
      "Feature: query_cat_racing, Score: -0.23549\n",
      "Feature: query_cat_shopping, Score: 0.31814\n",
      "Feature: query_cat_social, Score: 0.24647\n",
      "Feature: query_cat_sports-game, Score: -0.05250\n",
      "Feature: query_cat_strategy, Score: 0.01310\n",
      "Feature: query_cat_tools, Score: 0.00000\n",
      "Feature: query_cat_travel-local, Score: 0.50109\n",
      "Feature: rate_2.1, Score: 1.09815\n",
      "Feature: rate_3.8, Score: 1.10604\n",
      "Feature: rate_3.9, Score: 0.00000\n",
      "Feature: rate_4.0, Score: 0.00000\n",
      "Feature: rate_4.1, Score: 0.87670\n",
      "Feature: rate_4.2, Score: -0.35575\n",
      "Feature: rate_4.3, Score: -0.49518\n",
      "Feature: rate_4.6, Score: 0.51167\n",
      "Feature: rate_4.8, Score: 0.34712\n",
      "Feature: rate_4.9, Score: -0.15004\n",
      "Feature: rate_5.1, Score: 0.30050\n",
      "Feature: rate_5.2, Score: -0.14191\n",
      "Feature: rate_5.3, Score: 0.00000\n",
      "Feature: rate_5.4, Score: -0.14850\n",
      "Feature: rate_5.5, Score: -0.07879\n",
      "Feature: rate_5.6, Score: 0.00000\n",
      "Feature: rate_5.7, Score: -0.91503\n",
      "Feature: rate_5.8, Score: -0.00289\n",
      "Feature: rate_5.9, Score: -0.36358\n",
      "Feature: rate_6.1, Score: 0.76814\n",
      "Feature: rate_6.2, Score: 0.43840\n",
      "Feature: rate_6.3, Score: 0.00000\n",
      "Feature: rate_6.4, Score: 0.70280\n",
      "Feature: rate_6.6, Score: 1.16552\n",
      "Feature: image_1, Score: -0.01033\n",
      "Feature: image_10, Score: 0.85191\n",
      "Feature: image_11, Score: 0.00000\n",
      "Feature: image_2, Score: -0.19695\n",
      "Feature: image_3, Score: -1.13241\n",
      "Feature: image_4, Score: 0.00000\n",
      "Feature: image_5, Score: 0.26262\n",
      "Feature: image_6, Score: 0.00000\n",
      "Feature: image_7, Score: -0.40856\n",
      "Feature: image_8, Score: 0.16832\n",
      "Feature: image_9, Score: 0.71875\n",
      "Feature: year_2015, Score: 0.00000\n",
      "Feature: year_2016, Score: -0.54241\n",
      "Feature: year_2017, Score: 0.18559\n",
      "Feature: year_2018, Score: -1.23304\n",
      "Feature: year_2019, Score: 0.00000\n",
      "Feature: year_2020, Score: -1.41026\n"
     ]
    },
    {
     "data": {
      "image/png": "[encoded data removed]",
      "text/plain": [
       "<Figure size 1008x576 with 1 Axes>"
      ]
     },
     "metadata": {
      "needs_background": "light"
     },
     "output_type": "display_data"
    }
   ],
   "source": [
    "# Performing feature importance\n",
    "\n",
    "# get importance\n",
    "importance = model.coef_[0]\n",
    "# summarize feature importance\n",
    "for i,v in enumerate(importance):\n",
    "    print('Feature: %s, Score: %.5f' % (X_train_resampled.columns[i],v))\n",
    "# plot feature importance\n",
    "plt.figure(figsize=(14,8))\n",
    "plt.bar([x for x in range(len(importance))], importance)\n",
    "plt.show()"
   ]
  },
  {
   "cell_type": "markdown",
   "id": "09702128",
   "metadata": {},
   "source": [
    "When model is trained with C = 0.031810135902686304, lots of features get an importance of zero! -> further research"
   ]
  },
  {
   "cell_type": "code",
   "execution_count": 771,
   "id": "3afe9c98",
   "metadata": {},
   "outputs": [
    {
     "data": {
      "text/plain": [
       "<AxesSubplot:>"
      ]
     },
     "execution_count": 771,
     "metadata": {},
     "output_type": "execute_result"
    },
    {
     "data": {
      "image/png": "[encoded data removed]",
      "text/plain": [
       "<Figure size 1008x576 with 1 Axes>"
      ]
     },
     "metadata": {
      "needs_background": "light"
     },
     "output_type": "display_data"
    }
   ],
   "source": [
    "pd.Series(importance, index=X_train_resampled.columns).nlargest(20).plot(kind='barh', figsize=(14,8))"
   ]
  },
  {
   "cell_type": "code",
   "execution_count": 746,
   "id": "91729984",
   "metadata": {},
   "outputs": [
    {
     "data": {
      "text/plain": [
       "array([[0.61566762, 0.38433238],\n",
       "       [0.25616855, 0.74383145],\n",
       "       [0.27579862, 0.72420138],\n",
       "       ...,\n",
       "       [0.90251488, 0.09748512],\n",
       "       [0.76414197, 0.23585803],\n",
       "       [0.1805259 , 0.8194741 ]])"
      ]
     },
     "execution_count": 746,
     "metadata": {},
     "output_type": "execute_result"
    }
   ],
   "source": [
    "threshold = 0.351122\n",
    "y_pred = model.predict_proba(X_test)\n",
    "y_pred"
   ]
  },
  {
   "cell_type": "code",
   "execution_count": 747,
   "id": "36225886",
   "metadata": {},
   "outputs": [],
   "source": [
    "y = pd.Series(np.argmax(y_pred, axis=1))"
   ]
  },
  {
   "cell_type": "code",
   "execution_count": 748,
   "id": "a5b471de",
   "metadata": {},
   "outputs": [
    {
     "data": {
      "text/plain": [
       "0       0\n",
       "1       1\n",
       "2       1\n",
       "3       0\n",
       "4       0\n",
       "       ..\n",
       "1074    0\n",
       "1075    1\n",
       "1076    0\n",
       "1077    0\n",
       "1078    1\n",
       "Length: 1079, dtype: int64"
      ]
     },
     "execution_count": 748,
     "metadata": {},
     "output_type": "execute_result"
    }
   ],
   "source": [
    "y"
   ]
  },
  {
   "cell_type": "code",
   "execution_count": 749,
   "id": "bd5f0529",
   "metadata": {},
   "outputs": [],
   "source": [
    "idx = (Y_test != y)\n",
    "wrong_pred = X_test[idx]"
   ]
  },
  {
   "cell_type": "code",
   "execution_count": 750,
   "id": "82cdac39",
   "metadata": {},
   "outputs": [
    {
     "data": {
      "text/html": [
       "<div>\n",
       "<style scoped>\n",
       "    .dataframe tbody tr th:only-of-type {\n",
       "        vertical-align: middle;\n",
       "    }\n",
       "\n",
       "    .dataframe tbody tr th {\n",
       "        vertical-align: top;\n",
       "    }\n",
       "\n",
       "    .dataframe thead th {\n",
       "        text-align: right;\n",
       "    }\n",
       "</style>\n",
       "<table border=\"1\" class=\"dataframe\">\n",
       "  <thead>\n",
       "    <tr style=\"text-align: right;\">\n",
       "      <th></th>\n",
       "      <th>installed_count</th>\n",
       "      <th>is_specific</th>\n",
       "      <th>app2query_semantic_similarity</th>\n",
       "      <th>category_similarity</th>\n",
       "      <th>comment_norm</th>\n",
       "      <th>app_cat_arcade</th>\n",
       "      <th>app_cat_casual</th>\n",
       "      <th>app_cat_family</th>\n",
       "      <th>app_cat_finance</th>\n",
       "      <th>app_cat_maps-navigation</th>\n",
       "      <th>...</th>\n",
       "      <th>image_6</th>\n",
       "      <th>image_7</th>\n",
       "      <th>image_8</th>\n",
       "      <th>image_9</th>\n",
       "      <th>year_2015</th>\n",
       "      <th>year_2016</th>\n",
       "      <th>year_2017</th>\n",
       "      <th>year_2018</th>\n",
       "      <th>year_2019</th>\n",
       "      <th>year_2020</th>\n",
       "    </tr>\n",
       "  </thead>\n",
       "  <tbody>\n",
       "    <tr>\n",
       "      <th>8</th>\n",
       "      <td>3.925799</td>\n",
       "      <td>True</td>\n",
       "      <td>1.561358</td>\n",
       "      <td>False</td>\n",
       "      <td>0.860570</td>\n",
       "      <td>0.0</td>\n",
       "      <td>0.0</td>\n",
       "      <td>0.0</td>\n",
       "      <td>0.0</td>\n",
       "      <td>0.0</td>\n",
       "      <td>...</td>\n",
       "      <td>0.0</td>\n",
       "      <td>0.0</td>\n",
       "      <td>0.0</td>\n",
       "      <td>0.0</td>\n",
       "      <td>1.0</td>\n",
       "      <td>0.0</td>\n",
       "      <td>0.0</td>\n",
       "      <td>0.0</td>\n",
       "      <td>0.0</td>\n",
       "      <td>0.0</td>\n",
       "    </tr>\n",
       "    <tr>\n",
       "      <th>9</th>\n",
       "      <td>-0.508386</td>\n",
       "      <td>True</td>\n",
       "      <td>0.832412</td>\n",
       "      <td>False</td>\n",
       "      <td>-0.348561</td>\n",
       "      <td>0.0</td>\n",
       "      <td>0.0</td>\n",
       "      <td>0.0</td>\n",
       "      <td>0.0</td>\n",
       "      <td>0.0</td>\n",
       "      <td>...</td>\n",
       "      <td>0.0</td>\n",
       "      <td>0.0</td>\n",
       "      <td>0.0</td>\n",
       "      <td>0.0</td>\n",
       "      <td>0.0</td>\n",
       "      <td>0.0</td>\n",
       "      <td>0.0</td>\n",
       "      <td>0.0</td>\n",
       "      <td>1.0</td>\n",
       "      <td>0.0</td>\n",
       "    </tr>\n",
       "    <tr>\n",
       "      <th>13</th>\n",
       "      <td>0.000455</td>\n",
       "      <td>True</td>\n",
       "      <td>-0.481815</td>\n",
       "      <td>False</td>\n",
       "      <td>0.073447</td>\n",
       "      <td>0.0</td>\n",
       "      <td>0.0</td>\n",
       "      <td>0.0</td>\n",
       "      <td>0.0</td>\n",
       "      <td>1.0</td>\n",
       "      <td>...</td>\n",
       "      <td>0.0</td>\n",
       "      <td>0.0</td>\n",
       "      <td>1.0</td>\n",
       "      <td>0.0</td>\n",
       "      <td>0.0</td>\n",
       "      <td>0.0</td>\n",
       "      <td>0.0</td>\n",
       "      <td>1.0</td>\n",
       "      <td>0.0</td>\n",
       "      <td>0.0</td>\n",
       "    </tr>\n",
       "    <tr>\n",
       "      <th>21</th>\n",
       "      <td>-0.290311</td>\n",
       "      <td>True</td>\n",
       "      <td>-0.575924</td>\n",
       "      <td>True</td>\n",
       "      <td>-0.369216</td>\n",
       "      <td>0.0</td>\n",
       "      <td>0.0</td>\n",
       "      <td>0.0</td>\n",
       "      <td>0.0</td>\n",
       "      <td>0.0</td>\n",
       "      <td>...</td>\n",
       "      <td>0.0</td>\n",
       "      <td>1.0</td>\n",
       "      <td>0.0</td>\n",
       "      <td>0.0</td>\n",
       "      <td>0.0</td>\n",
       "      <td>0.0</td>\n",
       "      <td>1.0</td>\n",
       "      <td>0.0</td>\n",
       "      <td>0.0</td>\n",
       "      <td>0.0</td>\n",
       "    </tr>\n",
       "    <tr>\n",
       "      <th>24</th>\n",
       "      <td>-0.508386</td>\n",
       "      <td>False</td>\n",
       "      <td>1.561358</td>\n",
       "      <td>True</td>\n",
       "      <td>0.457612</td>\n",
       "      <td>0.0</td>\n",
       "      <td>1.0</td>\n",
       "      <td>0.0</td>\n",
       "      <td>0.0</td>\n",
       "      <td>0.0</td>\n",
       "      <td>...</td>\n",
       "      <td>0.0</td>\n",
       "      <td>1.0</td>\n",
       "      <td>0.0</td>\n",
       "      <td>0.0</td>\n",
       "      <td>0.0</td>\n",
       "      <td>0.0</td>\n",
       "      <td>0.0</td>\n",
       "      <td>0.0</td>\n",
       "      <td>1.0</td>\n",
       "      <td>0.0</td>\n",
       "    </tr>\n",
       "    <tr>\n",
       "      <th>...</th>\n",
       "      <td>...</td>\n",
       "      <td>...</td>\n",
       "      <td>...</td>\n",
       "      <td>...</td>\n",
       "      <td>...</td>\n",
       "      <td>...</td>\n",
       "      <td>...</td>\n",
       "      <td>...</td>\n",
       "      <td>...</td>\n",
       "      <td>...</td>\n",
       "      <td>...</td>\n",
       "      <td>...</td>\n",
       "      <td>...</td>\n",
       "      <td>...</td>\n",
       "      <td>...</td>\n",
       "      <td>...</td>\n",
       "      <td>...</td>\n",
       "      <td>...</td>\n",
       "      <td>...</td>\n",
       "      <td>...</td>\n",
       "      <td>...</td>\n",
       "    </tr>\n",
       "    <tr>\n",
       "      <th>1067</th>\n",
       "      <td>-0.508386</td>\n",
       "      <td>True</td>\n",
       "      <td>0.668098</td>\n",
       "      <td>True</td>\n",
       "      <td>1.473964</td>\n",
       "      <td>0.0</td>\n",
       "      <td>0.0</td>\n",
       "      <td>0.0</td>\n",
       "      <td>0.0</td>\n",
       "      <td>0.0</td>\n",
       "      <td>...</td>\n",
       "      <td>0.0</td>\n",
       "      <td>0.0</td>\n",
       "      <td>0.0</td>\n",
       "      <td>0.0</td>\n",
       "      <td>1.0</td>\n",
       "      <td>0.0</td>\n",
       "      <td>0.0</td>\n",
       "      <td>0.0</td>\n",
       "      <td>0.0</td>\n",
       "      <td>0.0</td>\n",
       "    </tr>\n",
       "    <tr>\n",
       "      <th>1068</th>\n",
       "      <td>-0.435694</td>\n",
       "      <td>False</td>\n",
       "      <td>-0.392731</td>\n",
       "      <td>True</td>\n",
       "      <td>-0.665840</td>\n",
       "      <td>1.0</td>\n",
       "      <td>0.0</td>\n",
       "      <td>0.0</td>\n",
       "      <td>0.0</td>\n",
       "      <td>0.0</td>\n",
       "      <td>...</td>\n",
       "      <td>0.0</td>\n",
       "      <td>0.0</td>\n",
       "      <td>0.0</td>\n",
       "      <td>0.0</td>\n",
       "      <td>0.0</td>\n",
       "      <td>0.0</td>\n",
       "      <td>1.0</td>\n",
       "      <td>0.0</td>\n",
       "      <td>0.0</td>\n",
       "      <td>0.0</td>\n",
       "    </tr>\n",
       "    <tr>\n",
       "      <th>1069</th>\n",
       "      <td>-0.290311</td>\n",
       "      <td>False</td>\n",
       "      <td>-0.612965</td>\n",
       "      <td>True</td>\n",
       "      <td>-0.369216</td>\n",
       "      <td>0.0</td>\n",
       "      <td>0.0</td>\n",
       "      <td>0.0</td>\n",
       "      <td>0.0</td>\n",
       "      <td>0.0</td>\n",
       "      <td>...</td>\n",
       "      <td>0.0</td>\n",
       "      <td>1.0</td>\n",
       "      <td>0.0</td>\n",
       "      <td>0.0</td>\n",
       "      <td>0.0</td>\n",
       "      <td>0.0</td>\n",
       "      <td>1.0</td>\n",
       "      <td>0.0</td>\n",
       "      <td>0.0</td>\n",
       "      <td>0.0</td>\n",
       "    </tr>\n",
       "    <tr>\n",
       "      <th>1074</th>\n",
       "      <td>-0.508386</td>\n",
       "      <td>False</td>\n",
       "      <td>-1.176402</td>\n",
       "      <td>False</td>\n",
       "      <td>-1.065333</td>\n",
       "      <td>1.0</td>\n",
       "      <td>0.0</td>\n",
       "      <td>0.0</td>\n",
       "      <td>0.0</td>\n",
       "      <td>0.0</td>\n",
       "      <td>...</td>\n",
       "      <td>1.0</td>\n",
       "      <td>0.0</td>\n",
       "      <td>0.0</td>\n",
       "      <td>0.0</td>\n",
       "      <td>0.0</td>\n",
       "      <td>0.0</td>\n",
       "      <td>0.0</td>\n",
       "      <td>0.0</td>\n",
       "      <td>1.0</td>\n",
       "      <td>0.0</td>\n",
       "    </tr>\n",
       "    <tr>\n",
       "      <th>1076</th>\n",
       "      <td>-0.508386</td>\n",
       "      <td>False</td>\n",
       "      <td>-2.496350</td>\n",
       "      <td>False</td>\n",
       "      <td>-0.037641</td>\n",
       "      <td>0.0</td>\n",
       "      <td>0.0</td>\n",
       "      <td>0.0</td>\n",
       "      <td>0.0</td>\n",
       "      <td>0.0</td>\n",
       "      <td>...</td>\n",
       "      <td>0.0</td>\n",
       "      <td>0.0</td>\n",
       "      <td>0.0</td>\n",
       "      <td>1.0</td>\n",
       "      <td>1.0</td>\n",
       "      <td>0.0</td>\n",
       "      <td>0.0</td>\n",
       "      <td>0.0</td>\n",
       "      <td>0.0</td>\n",
       "      <td>0.0</td>\n",
       "    </tr>\n",
       "  </tbody>\n",
       "</table>\n",
       "<p>344 rows × 86 columns</p>\n",
       "</div>"
      ],
      "text/plain": [
       "      installed_count  is_specific  app2query_semantic_similarity  \\\n",
       "8            3.925799         True                       1.561358   \n",
       "9           -0.508386         True                       0.832412   \n",
       "13           0.000455         True                      -0.481815   \n",
       "21          -0.290311         True                      -0.575924   \n",
       "24          -0.508386        False                       1.561358   \n",
       "...               ...          ...                            ...   \n",
       "1067        -0.508386         True                       0.668098   \n",
       "1068        -0.435694        False                      -0.392731   \n",
       "1069        -0.290311        False                      -0.612965   \n",
       "1074        -0.508386        False                      -1.176402   \n",
       "1076        -0.508386        False                      -2.496350   \n",
       "\n",
       "      category_similarity  comment_norm  app_cat_arcade  app_cat_casual  \\\n",
       "8                   False      0.860570             0.0             0.0   \n",
       "9                   False     -0.348561             0.0             0.0   \n",
       "13                  False      0.073447             0.0             0.0   \n",
       "21                   True     -0.369216             0.0             0.0   \n",
       "24                   True      0.457612             0.0             1.0   \n",
       "...                   ...           ...             ...             ...   \n",
       "1067                 True      1.473964             0.0             0.0   \n",
       "1068                 True     -0.665840             1.0             0.0   \n",
       "1069                 True     -0.369216             0.0             0.0   \n",
       "1074                False     -1.065333             1.0             0.0   \n",
       "1076                False     -0.037641             0.0             0.0   \n",
       "\n",
       "      app_cat_family  app_cat_finance  app_cat_maps-navigation  ...  image_6  \\\n",
       "8                0.0              0.0                      0.0  ...      0.0   \n",
       "9                0.0              0.0                      0.0  ...      0.0   \n",
       "13               0.0              0.0                      1.0  ...      0.0   \n",
       "21               0.0              0.0                      0.0  ...      0.0   \n",
       "24               0.0              0.0                      0.0  ...      0.0   \n",
       "...              ...              ...                      ...  ...      ...   \n",
       "1067             0.0              0.0                      0.0  ...      0.0   \n",
       "1068             0.0              0.0                      0.0  ...      0.0   \n",
       "1069             0.0              0.0                      0.0  ...      0.0   \n",
       "1074             0.0              0.0                      0.0  ...      1.0   \n",
       "1076             0.0              0.0                      0.0  ...      0.0   \n",
       "\n",
       "      image_7  image_8  image_9  year_2015  year_2016  year_2017  year_2018  \\\n",
       "8         0.0      0.0      0.0        1.0        0.0        0.0        0.0   \n",
       "9         0.0      0.0      0.0        0.0        0.0        0.0        0.0   \n",
       "13        0.0      1.0      0.0        0.0        0.0        0.0        1.0   \n",
       "21        1.0      0.0      0.0        0.0        0.0        1.0        0.0   \n",
       "24        1.0      0.0      0.0        0.0        0.0        0.0        0.0   \n",
       "...       ...      ...      ...        ...        ...        ...        ...   \n",
       "1067      0.0      0.0      0.0        1.0        0.0        0.0        0.0   \n",
       "1068      0.0      0.0      0.0        0.0        0.0        1.0        0.0   \n",
       "1069      1.0      0.0      0.0        0.0        0.0        1.0        0.0   \n",
       "1074      0.0      0.0      0.0        0.0        0.0        0.0        0.0   \n",
       "1076      0.0      0.0      1.0        1.0        0.0        0.0        0.0   \n",
       "\n",
       "      year_2019  year_2020  \n",
       "8           0.0        0.0  \n",
       "9           1.0        0.0  \n",
       "13          0.0        0.0  \n",
       "21          0.0        0.0  \n",
       "24          1.0        0.0  \n",
       "...         ...        ...  \n",
       "1067        0.0        0.0  \n",
       "1068        0.0        0.0  \n",
       "1069        0.0        0.0  \n",
       "1074        1.0        0.0  \n",
       "1076        0.0        0.0  \n",
       "\n",
       "[344 rows x 86 columns]"
      ]
     },
     "execution_count": 750,
     "metadata": {},
     "output_type": "execute_result"
    }
   ],
   "source": [
    "wrong_pred"
   ]
  },
  {
   "cell_type": "code",
   "execution_count": 751,
   "id": "abfee0e1",
   "metadata": {},
   "outputs": [],
   "source": [
    "wrong_pred = pd.DataFrame(encoder.inverse_transform(wrong_pred[wrong_pred.columns[5:]]), columns=['app_category', 'query_category', 'rate', 'image_count', 'published_year'])\n",
    "false_pred = pd.concat([X_test[idx][X_test[idx].columns[0:5]].reset_index(drop=True), wrong_pred.reset_index(drop=True)], axis=1)\n",
    "false_pred = pd.concat([false_pred, Y_test[idx].reset_index(drop=True)], axis=1)"
   ]
  },
  {
   "cell_type": "code",
   "execution_count": 752,
   "id": "2f449db6",
   "metadata": {},
   "outputs": [
    {
     "data": {
      "text/html": [
       "<div>\n",
       "<style scoped>\n",
       "    .dataframe tbody tr th:only-of-type {\n",
       "        vertical-align: middle;\n",
       "    }\n",
       "\n",
       "    .dataframe tbody tr th {\n",
       "        vertical-align: top;\n",
       "    }\n",
       "\n",
       "    .dataframe thead th {\n",
       "        text-align: right;\n",
       "    }\n",
       "</style>\n",
       "<table border=\"1\" class=\"dataframe\">\n",
       "  <thead>\n",
       "    <tr style=\"text-align: right;\">\n",
       "      <th></th>\n",
       "      <th>installed_count</th>\n",
       "      <th>is_specific</th>\n",
       "      <th>app2query_semantic_similarity</th>\n",
       "      <th>category_similarity</th>\n",
       "      <th>comment_norm</th>\n",
       "      <th>app_category</th>\n",
       "      <th>query_category</th>\n",
       "      <th>rate</th>\n",
       "      <th>image_count</th>\n",
       "      <th>published_year</th>\n",
       "      <th>result</th>\n",
       "    </tr>\n",
       "  </thead>\n",
       "  <tbody>\n",
       "    <tr>\n",
       "      <th>0</th>\n",
       "      <td>3.925799</td>\n",
       "      <td>True</td>\n",
       "      <td>1.561358</td>\n",
       "      <td>False</td>\n",
       "      <td>0.860570</td>\n",
       "      <td>tools</td>\n",
       "      <td>Other</td>\n",
       "      <td>5.8</td>\n",
       "      <td>10</td>\n",
       "      <td>2015</td>\n",
       "      <td>0</td>\n",
       "    </tr>\n",
       "    <tr>\n",
       "      <th>1</th>\n",
       "      <td>-0.508386</td>\n",
       "      <td>True</td>\n",
       "      <td>0.832412</td>\n",
       "      <td>False</td>\n",
       "      <td>-0.348561</td>\n",
       "      <td>racing</td>\n",
       "      <td>Other</td>\n",
       "      <td>5.6</td>\n",
       "      <td>11</td>\n",
       "      <td>2019</td>\n",
       "      <td>1</td>\n",
       "    </tr>\n",
       "    <tr>\n",
       "      <th>2</th>\n",
       "      <td>0.000455</td>\n",
       "      <td>True</td>\n",
       "      <td>-0.481815</td>\n",
       "      <td>False</td>\n",
       "      <td>0.073447</td>\n",
       "      <td>maps-navigation</td>\n",
       "      <td>travel-local</td>\n",
       "      <td>6.3</td>\n",
       "      <td>8</td>\n",
       "      <td>2018</td>\n",
       "      <td>1</td>\n",
       "    </tr>\n",
       "    <tr>\n",
       "      <th>3</th>\n",
       "      <td>-0.290311</td>\n",
       "      <td>True</td>\n",
       "      <td>-0.575924</td>\n",
       "      <td>True</td>\n",
       "      <td>-0.369216</td>\n",
       "      <td>photography</td>\n",
       "      <td>photography</td>\n",
       "      <td>5.3</td>\n",
       "      <td>7</td>\n",
       "      <td>2017</td>\n",
       "      <td>0</td>\n",
       "    </tr>\n",
       "    <tr>\n",
       "      <th>4</th>\n",
       "      <td>-0.508386</td>\n",
       "      <td>False</td>\n",
       "      <td>1.561358</td>\n",
       "      <td>True</td>\n",
       "      <td>0.457612</td>\n",
       "      <td>casual</td>\n",
       "      <td>casual</td>\n",
       "      <td>5.4</td>\n",
       "      <td>7</td>\n",
       "      <td>2019</td>\n",
       "      <td>1</td>\n",
       "    </tr>\n",
       "    <tr>\n",
       "      <th>...</th>\n",
       "      <td>...</td>\n",
       "      <td>...</td>\n",
       "      <td>...</td>\n",
       "      <td>...</td>\n",
       "      <td>...</td>\n",
       "      <td>...</td>\n",
       "      <td>...</td>\n",
       "      <td>...</td>\n",
       "      <td>...</td>\n",
       "      <td>...</td>\n",
       "      <td>...</td>\n",
       "    </tr>\n",
       "    <tr>\n",
       "      <th>339</th>\n",
       "      <td>-0.508386</td>\n",
       "      <td>True</td>\n",
       "      <td>0.668098</td>\n",
       "      <td>True</td>\n",
       "      <td>1.473964</td>\n",
       "      <td>productivity</td>\n",
       "      <td>productivity</td>\n",
       "      <td>5.2</td>\n",
       "      <td>4</td>\n",
       "      <td>2015</td>\n",
       "      <td>0</td>\n",
       "    </tr>\n",
       "    <tr>\n",
       "      <th>340</th>\n",
       "      <td>-0.435694</td>\n",
       "      <td>False</td>\n",
       "      <td>-0.392731</td>\n",
       "      <td>True</td>\n",
       "      <td>-0.665840</td>\n",
       "      <td>arcade</td>\n",
       "      <td>arcade</td>\n",
       "      <td>5.9</td>\n",
       "      <td>1</td>\n",
       "      <td>2017</td>\n",
       "      <td>1</td>\n",
       "    </tr>\n",
       "    <tr>\n",
       "      <th>341</th>\n",
       "      <td>-0.290311</td>\n",
       "      <td>False</td>\n",
       "      <td>-0.612965</td>\n",
       "      <td>True</td>\n",
       "      <td>-0.369216</td>\n",
       "      <td>photography</td>\n",
       "      <td>photography</td>\n",
       "      <td>5.3</td>\n",
       "      <td>7</td>\n",
       "      <td>2017</td>\n",
       "      <td>1</td>\n",
       "    </tr>\n",
       "    <tr>\n",
       "      <th>342</th>\n",
       "      <td>-0.508386</td>\n",
       "      <td>False</td>\n",
       "      <td>-1.176402</td>\n",
       "      <td>False</td>\n",
       "      <td>-1.065333</td>\n",
       "      <td>arcade</td>\n",
       "      <td>Other</td>\n",
       "      <td>6.1</td>\n",
       "      <td>6</td>\n",
       "      <td>2019</td>\n",
       "      <td>1</td>\n",
       "    </tr>\n",
       "    <tr>\n",
       "      <th>343</th>\n",
       "      <td>-0.508386</td>\n",
       "      <td>False</td>\n",
       "      <td>-2.496350</td>\n",
       "      <td>False</td>\n",
       "      <td>-0.037641</td>\n",
       "      <td>racing</td>\n",
       "      <td>health-fitness</td>\n",
       "      <td>4.9</td>\n",
       "      <td>9</td>\n",
       "      <td>2015</td>\n",
       "      <td>1</td>\n",
       "    </tr>\n",
       "  </tbody>\n",
       "</table>\n",
       "<p>344 rows × 11 columns</p>\n",
       "</div>"
      ],
      "text/plain": [
       "     installed_count  is_specific  app2query_semantic_similarity  \\\n",
       "0           3.925799         True                       1.561358   \n",
       "1          -0.508386         True                       0.832412   \n",
       "2           0.000455         True                      -0.481815   \n",
       "3          -0.290311         True                      -0.575924   \n",
       "4          -0.508386        False                       1.561358   \n",
       "..               ...          ...                            ...   \n",
       "339        -0.508386         True                       0.668098   \n",
       "340        -0.435694        False                      -0.392731   \n",
       "341        -0.290311        False                      -0.612965   \n",
       "342        -0.508386        False                      -1.176402   \n",
       "343        -0.508386        False                      -2.496350   \n",
       "\n",
       "     category_similarity  comment_norm     app_category  query_category rate  \\\n",
       "0                  False      0.860570            tools           Other  5.8   \n",
       "1                  False     -0.348561           racing           Other  5.6   \n",
       "2                  False      0.073447  maps-navigation    travel-local  6.3   \n",
       "3                   True     -0.369216      photography     photography  5.3   \n",
       "4                   True      0.457612           casual          casual  5.4   \n",
       "..                   ...           ...              ...             ...  ...   \n",
       "339                 True      1.473964     productivity    productivity  5.2   \n",
       "340                 True     -0.665840           arcade          arcade  5.9   \n",
       "341                 True     -0.369216      photography     photography  5.3   \n",
       "342                False     -1.065333           arcade           Other  6.1   \n",
       "343                False     -0.037641           racing  health-fitness  4.9   \n",
       "\n",
       "    image_count published_year  result  \n",
       "0            10           2015       0  \n",
       "1            11           2019       1  \n",
       "2             8           2018       1  \n",
       "3             7           2017       0  \n",
       "4             7           2019       1  \n",
       "..          ...            ...     ...  \n",
       "339           4           2015       0  \n",
       "340           1           2017       1  \n",
       "341           7           2017       1  \n",
       "342           6           2019       1  \n",
       "343           9           2015       1  \n",
       "\n",
       "[344 rows x 11 columns]"
      ]
     },
     "execution_count": 752,
     "metadata": {},
     "output_type": "execute_result"
    }
   ],
   "source": [
    "false_pred"
   ]
  },
  {
   "cell_type": "code",
   "execution_count": 753,
   "id": "e4d453f2",
   "metadata": {},
   "outputs": [
    {
     "data": {
      "text/plain": [
       "category_similarity\n",
       "False    0.684211\n",
       "True     0.297189\n",
       "dtype: float64"
      ]
     },
     "execution_count": 753,
     "metadata": {},
     "output_type": "execute_result"
    }
   ],
   "source": [
    "false_pred.groupby('category_similarity').apply(lambda x: get_clicks(x))"
   ]
  },
  {
   "cell_type": "code",
   "execution_count": 754,
   "id": "931d648e",
   "metadata": {},
   "outputs": [
    {
     "data": {
      "text/plain": [
       "True     249\n",
       "False     95\n",
       "Name: category_similarity, dtype: int64"
      ]
     },
     "execution_count": 754,
     "metadata": {},
     "output_type": "execute_result"
    }
   ],
   "source": [
    "false_pred.category_similarity.value_counts()"
   ]
  },
  {
   "cell_type": "code",
   "execution_count": 755,
   "id": "4061a796",
   "metadata": {},
   "outputs": [
    {
     "data": {
      "text/plain": [
       "is_specific\n",
       "False    0.961538\n",
       "True     0.304795\n",
       "dtype: float64"
      ]
     },
     "execution_count": 755,
     "metadata": {},
     "output_type": "execute_result"
    }
   ],
   "source": [
    "false_pred.groupby('is_specific').apply(lambda x: get_clicks(x))"
   ]
  },
  {
   "cell_type": "code",
   "execution_count": 756,
   "id": "0700a21d",
   "metadata": {},
   "outputs": [
    {
     "data": {
      "text/plain": [
       "True     292\n",
       "False     52\n",
       "Name: is_specific, dtype: int64"
      ]
     },
     "execution_count": 756,
     "metadata": {},
     "output_type": "execute_result"
    }
   ],
   "source": [
    "false_pred.is_specific.value_counts()"
   ]
  },
  {
   "cell_type": "code",
   "execution_count": 757,
   "id": "2e24661f",
   "metadata": {},
   "outputs": [
    {
     "data": {
      "text/plain": [
       "published_year\n",
       "2015    0.170370\n",
       "2016    0.457143\n",
       "2017    0.573034\n",
       "2018    0.906250\n",
       "2019    0.352941\n",
       "2020    1.000000\n",
       "dtype: float64"
      ]
     },
     "execution_count": 757,
     "metadata": {},
     "output_type": "execute_result"
    }
   ],
   "source": [
    "false_pred.groupby('published_year').apply(lambda x: get_clicks(x))"
   ]
  },
  {
   "cell_type": "code",
   "execution_count": 758,
   "id": "fe804a96",
   "metadata": {},
   "outputs": [
    {
     "data": {
      "text/plain": [
       "rate\n",
       "2.1    0.000000\n",
       "3.8    0.000000\n",
       "3.9    0.000000\n",
       "4.0    0.142857\n",
       "4.1    0.250000\n",
       "4.2    1.000000\n",
       "4.3    0.052632\n",
       "4.6    0.000000\n",
       "4.8    0.000000\n",
       "4.9    0.526316\n",
       "5.1    0.125000\n",
       "5.2    0.318182\n",
       "5.3    0.421053\n",
       "5.4    0.402439\n",
       "5.5    0.000000\n",
       "5.6    0.500000\n",
       "5.7    0.800000\n",
       "5.8    0.120000\n",
       "5.9    1.000000\n",
       "6.1    0.555556\n",
       "6.2    0.000000\n",
       "6.3    0.863636\n",
       "6.4    0.571429\n",
       "6.6    0.000000\n",
       "dtype: float64"
      ]
     },
     "execution_count": 758,
     "metadata": {},
     "output_type": "execute_result"
    }
   ],
   "source": [
    "false_pred.groupby('rate').apply(lambda x: get_clicks(x))\n",
    "# some rates have a larger number of instances and that makes their impact more on the model"
   ]
  },
  {
   "cell_type": "code",
   "execution_count": 759,
   "id": "2a6c5bd9",
   "metadata": {},
   "outputs": [
    {
     "data": {
      "text/plain": [
       "image_count\n",
       "1     0.466667\n",
       "10    0.100000\n",
       "11    0.448276\n",
       "2     0.527778\n",
       "3     0.000000\n",
       "4     0.533333\n",
       "5     0.000000\n",
       "6     0.071429\n",
       "7     0.426230\n",
       "8     0.666667\n",
       "9     0.576923\n",
       "dtype: float64"
      ]
     },
     "execution_count": 759,
     "metadata": {},
     "output_type": "execute_result"
    }
   ],
   "source": [
    "false_pred.groupby('image_count').apply(lambda x: get_clicks(x))"
   ]
  }
 ],
 "metadata": {
  "kernelspec": {
   "display_name": "Python 3 (ipykernel)",
   "language": "python",
   "name": "python3"
  },
  "language_info": {
   "codemirror_mode": {
    "name": "ipython",
    "version": 3
   },
   "file_extension": ".py",
   "mimetype": "text/x-python",
   "name": "python",
   "nbconvert_exporter": "python",
   "pygments_lexer": "ipython3",
   "version": "3.9.1"
  }
 },
 "nbformat": 4,
 "nbformat_minor": 5
}
